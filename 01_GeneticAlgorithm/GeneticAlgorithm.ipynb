{
  "nbformat": 4,
  "nbformat_minor": 0,
  "metadata": {
    "colab": {
      "provenance": [],
      "authorship_tag": "ABX9TyO7M7356aMno8Q3zr2SGqoM",
      "include_colab_link": true
    },
    "kernelspec": {
      "name": "python3",
      "display_name": "Python 3"
    },
    "language_info": {
      "name": "python"
    }
  },
  "cells": [
    {
      "cell_type": "markdown",
      "metadata": {
        "id": "view-in-github",
        "colab_type": "text"
      },
      "source": [
        "<a href=\"https://colab.research.google.com/github/FabioNicotra/FabiosPortfolio/blob/main/01_GeneticAlgorithm/GeneticAlgorithm.ipynb\" target=\"_parent\"><img src=\"https://colab.research.google.com/assets/colab-badge.svg\" alt=\"Open In Colab\"/></a>"
      ]
    },
    {
      "cell_type": "code",
      "source": [],
      "metadata": {
        "id": "ICl7HocgQ9MQ"
      },
      "execution_count": 7,
      "outputs": []
    },
    {
      "cell_type": "markdown",
      "source": [
        "# A silly genetic algorithm\n",
        "This project was assigned during the course *Data Structures in Python* held by Politecnico di Torino in cooperation with Reply IT.\n",
        "\n",
        "In computer science and operations research, a genetic algorithm is a metaheuristic inspired by the process of natural selection. They are part of a larger families of algorithms known as evolutionary algorithms. Genetic algorithms rely on the existence of a candidates population that evolves in time, exploiting operators such as mutation, crossover and selection, in order to generate high-quality solutions to optimization and search problems.\n",
        "\n",
        "Genetic algorithms *optimize*, i.e., they select the best solution according to given criteria from a set of available alternatives. They efficiently search the solution space thoroughly enough to avoid picking a good answer when a better one is available. They do not perform exhaustive searches of the space, since they don't try every possible solution. They continuously grade solutions and then use them to make choices going forward.\n",
        "\n",
        "Genetic algorithms use a *fitness function* to preserve/discard candidates in a population, and then build the next iteration of such a population according to context rules.\n",
        "\n",
        "The basic process is as follows:\n",
        "1. Randomly generate a population of solutions\n",
        "2. Measure the fitness of each solution\n",
        "3. Select the best solutions and discard the rest\n",
        "4. Cross over elements in the best solutions to make new solutions\n",
        "5. Mutate a small number of elements in the solutions by changing their value\n",
        "6. Return to step 2 and repeat until converge or halt condition.\n",
        "\n",
        "Halting conditions could either be having found a *good enough* solution or having exhausted all our resources, such as number of iterations or reaching a time deadline.\n"
      ],
      "metadata": {
        "id": "s9DHXocrOlL-"
      }
    },
    {
      "cell_type": "markdown",
      "source": [
        "## The smartest dogs in the world (sort of...)\n",
        "We strive to algorithmically generate a breed of smarter dogs, i.e., generate a population of dogs with an average smart factor higher than a given threshold, starting from a population way duller than our target.\n",
        "\n",
        "Let's say for the sake of simplicity that our population has a 50/50 male/female ratio. At each iteration crossover happens, generating new offspring. Most likely the new offspring present the same characteristics of their parents, so we apply mutation to a very limited number of them. Before moving on, we resize our population in order to keep only the smartest individuals. We make sure to keep the same initial gender ratio and the same number of initial individuals. The whole process then becomes a big repeating loop, until convergence or stop."
      ],
      "metadata": {
        "id": "GAi5_Zx5h0Ri"
      }
    },
    {
      "cell_type": "markdown",
      "source": [
        "### Parametrizing our experiments\n",
        "Here follows a set of constants that we can use to determine how our algorithm will evolve. You can play with these number a see different outcomes for your runs."
      ],
      "metadata": {
        "id": "D1ZF43sgiaEo"
      }
    },
    {
      "cell_type": "code",
      "execution_count": 8,
      "metadata": {
        "id": "sK6hjKS0Ji3z"
      },
      "outputs": [],
      "source": [
        "TARGET = 100 # Target \"smartness\" for our population\n",
        "POP_SIZE = 40 # The size of the population at the start of each iteration (keep this even, if you change it)\n",
        "INIT_MIN_SMART = 1 # The minimum smartness of a dog at ITER 0\n",
        "INIT_MAX_SMART = 10 # The maximum smartness of a dog at ITER 0\n",
        "INIT_MODE_SMART = 3 # The most comon smartness value of a dog at ITER 0\n",
        "MUTATE_ODDS = 0.01 # Probability of mutation for a new puppy\n",
        "MUTATE_MIN_FACTOR = 0.4 # Lower bound for the the product factor we multuply smartness for, if mutation happens\n",
        "MUTATE_MAX_FACTOR = 1.3 # Upper bound for the the product factor we multuply smartness for, if mutation happens\n",
        "LITTER_SIZE = 5 # Puppies born from each pair of adult dogs\n",
        "MAX_ITER = 1000 # Max number of iterations"
      ]
    },
    {
      "cell_type": "markdown",
      "source": [
        "### Generate the initial population\n",
        "We want to generate an initial population of a fixed size with a 50/50 gender split ratio, of dogs with a given initial smartness factor according to parameters. The `random.triangular()` function generates random values in a range with a skew toward a wanted mode. In this first implementation, no information about the gender is assigned because of the 50/50 split ratio assumption."
      ],
      "metadata": {
        "id": "deYoBjeOkzP0"
      }
    },
    {
      "cell_type": "code",
      "source": [
        "import random\n",
        "\n",
        "def populate():\n",
        "    pop = [random.triangular(INIT_MIN_SMART, INIT_MAX_SMART, INIT_MODE_SMART) for _ in range(POP_SIZE)]\n",
        "    return pop"
      ],
      "metadata": {
        "id": "Ee8ZnZd_k4A2"
      },
      "execution_count": 9,
      "outputs": []
    },
    {
      "cell_type": "markdown",
      "source": [
        "### Measure the fitness of the population\n",
        "The goodness of our population is evaluated as the average of the smartness of the individuals with respect to our target value. This function in used as an halting criteria for the main loop.\n",
        "Functions from the `statistics` module are used for this purpose."
      ],
      "metadata": {
        "id": "6APlVVb6vbd8"
      }
    },
    {
      "cell_type": "code",
      "source": [
        "import statistics\n",
        "\n",
        "def fitness(pop):\n",
        "    avg = statistics.mean(pop)\n",
        "    std = statistics.stdev(pop)\n",
        "    return avg, std"
      ],
      "metadata": {
        "id": "PAGFSPrtvoiR"
      },
      "execution_count": 10,
      "outputs": []
    },
    {
      "cell_type": "markdown",
      "source": [
        "### Breed the next generation of dogs\n",
        "We have to generate the new offspring. As a rule, we assume that given a pair of parent dogs, a new puppy smartness will lie in that same min-max range, unless mutation occours.\n",
        "In order to replicate what would happen in nature, we should not assume that smarter dogs pair with smarter dogs. We use `random.shuffle()` on our collection of dogs before pairing them. Each pair breed as many puppies as the litter size parameter indicates."
      ],
      "metadata": {
        "id": "9nKPnKz_wbyB"
      }
    },
    {
      "cell_type": "code",
      "source": [
        "def breed(pop):\n",
        "    random.shuffle(pop)\n",
        "    puppies = []\n",
        "    for i in range(0,len(pop),2):\n",
        "        parents_avg = 0.5*(pop[i]+pop[i+1])\n",
        "        puppies += [random.triangular(pop[i], pop[i+1], parents_avg) for _ in range(LITTER_SIZE)]\n",
        "    return puppies"
      ],
      "metadata": {
        "id": "7Sa9Z2X7wnnf"
      },
      "execution_count": 11,
      "outputs": []
    },
    {
      "cell_type": "markdown",
      "source": [
        "### Select the best candidates\n",
        "At each iteration, we have to resize our current population down to its initial size, preserving only the smartest dogs available for the next iteration. ***We have to make sure to keep also the initial gender split ratio. ***"
      ],
      "metadata": {
        "id": "0QAFvpolv66k"
      }
    },
    {
      "cell_type": "code",
      "source": [
        "def select(pop,puppies):\n",
        "    families = pop + puppies\n",
        "    families.sort(reverse=True)\n",
        "    newGen = families[0:POP_SIZE]\n",
        "    return newGen"
      ],
      "metadata": {
        "id": "Z7pkM37uwTyf"
      },
      "execution_count": 12,
      "outputs": []
    },
    {
      "cell_type": "markdown",
      "source": [
        "### Mutate the set of offspring\n",
        "A small percentage of the puppies should undergo mutation. This could either lead to a lower or a higher smartness value, since their base value is directly multiplied with a random value in the closed range `[MUTATE_MIN_FACTOR, MUTATE_MAX_FACTOR]`."
      ],
      "metadata": {
        "id": "4JNBVKUBxWZw"
      }
    },
    {
      "cell_type": "code",
      "source": [
        "from math import floor\n",
        "\n",
        "def mutate(puppies):\n",
        "    size = len(puppies)\n",
        "    mutants = floor(size*MUTATE_ODDS)\n",
        "    if mutants == 0:\n",
        "        mutants = random.randint(0,1)\n",
        "    random.shuffle(puppies)\n",
        "    for i in range(mutants):\n",
        "        puppies[i] = puppies[i]*random.uniform(MUTATE_MIN_FACTOR,MUTATE_MAX_FACTOR)"
      ],
      "metadata": {
        "id": "jeTaDHifxawm"
      },
      "execution_count": 13,
      "outputs": []
    },
    {
      "cell_type": "markdown",
      "source": [
        "### Put it all together\n",
        "The `main()` function manages the other functions and the primary evolutionary loop. It is also responsible for printing all the relevant information and outputs of our experiment."
      ],
      "metadata": {
        "id": "ifCbyDw_yCgW"
      }
    },
    {
      "cell_type": "code",
      "source": [
        "def main():\n",
        "    dogs = populate()\n",
        "    avg, std = fitness(dogs)\n",
        "    n_iter = 0\n",
        "    while avg < TARGET and n_iter < MAX_ITER:\n",
        "        if n_iter > 0:\n",
        "            litter = breed(dogs)\n",
        "            mutate(litter)\n",
        "            dogs = select(dogs, litter)\n",
        "        avg, std = fitness(dogs)\n",
        "        print(f\"Iter {n_iter}, avg = {avg:.2f}, std = {std:.2f}, min = {min(dogs):.2f}, max = {max(dogs):.2f}\")\n",
        "        n_iter += 1\n",
        "\n",
        "if __name__ == '__main__':\n",
        "    main()"
      ],
      "metadata": {
        "colab": {
          "base_uri": "https://localhost:8080/"
        },
        "id": "51q3AjXtyEqo",
        "outputId": "e6d831a7-fe33-44ed-de41-62e24918b4d4"
      },
      "execution_count": 14,
      "outputs": [
        {
          "output_type": "stream",
          "name": "stdout",
          "text": [
            "Iter 0, avg = 4.42, std = 1.76, min = 1.51, max = 8.52\n",
            "Iter 1, avg = 6.41, std = 0.98, min = 5.02, max = 8.52\n",
            "Iter 2, avg = 7.51, std = 0.48, min = 6.95, max = 8.70\n",
            "Iter 3, avg = 8.02, std = 0.19, min = 7.77, max = 8.70\n",
            "Iter 4, avg = 8.23, std = 0.14, min = 8.07, max = 8.70\n",
            "Iter 5, avg = 8.39, std = 0.10, min = 8.27, max = 8.70\n",
            "Iter 6, avg = 8.48, std = 0.05, min = 8.43, max = 8.70\n",
            "Iter 7, avg = 8.54, std = 0.05, min = 8.50, max = 8.70\n",
            "Iter 8, avg = 8.59, std = 0.03, min = 8.55, max = 8.70\n",
            "Iter 9, avg = 8.62, std = 0.02, min = 8.60, max = 8.70\n",
            "Iter 10, avg = 8.64, std = 0.02, min = 8.62, max = 8.70\n",
            "Iter 11, avg = 8.65, std = 0.01, min = 8.64, max = 8.70\n",
            "Iter 12, avg = 8.73, std = 0.41, min = 8.66, max = 11.24\n",
            "Iter 13, avg = 8.96, std = 0.72, min = 8.67, max = 11.24\n",
            "Iter 14, avg = 9.68, std = 0.66, min = 8.69, max = 11.24\n",
            "Iter 15, avg = 10.48, std = 0.41, min = 9.99, max = 12.33\n",
            "Iter 16, avg = 10.77, std = 0.36, min = 10.53, max = 12.33\n",
            "Iter 17, avg = 11.15, std = 0.37, min = 10.74, max = 12.33\n",
            "Iter 18, avg = 11.50, std = 0.25, min = 11.25, max = 12.33\n",
            "Iter 19, avg = 11.79, std = 0.20, min = 11.55, max = 12.33\n",
            "Iter 20, avg = 12.02, std = 0.09, min = 11.90, max = 12.33\n",
            "Iter 21, avg = 12.13, std = 0.06, min = 12.06, max = 12.33\n",
            "Iter 22, avg = 12.19, std = 0.05, min = 12.14, max = 12.33\n",
            "Iter 23, avg = 12.24, std = 0.03, min = 12.20, max = 12.33\n",
            "Iter 24, avg = 12.27, std = 0.03, min = 12.24, max = 12.33\n",
            "Iter 25, avg = 12.29, std = 0.01, min = 12.28, max = 12.33\n",
            "Iter 26, avg = 12.31, std = 0.01, min = 12.30, max = 12.35\n",
            "Iter 27, avg = 12.32, std = 0.01, min = 12.31, max = 12.35\n",
            "Iter 28, avg = 12.33, std = 0.01, min = 12.32, max = 12.35\n",
            "Iter 29, avg = 12.39, std = 0.38, min = 12.33, max = 14.73\n",
            "Iter 30, avg = 12.54, std = 0.54, min = 12.33, max = 14.73\n",
            "Iter 31, avg = 13.10, std = 0.54, min = 12.34, max = 14.73\n",
            "Iter 32, avg = 13.58, std = 0.34, min = 13.27, max = 14.73\n",
            "Iter 33, avg = 13.96, std = 0.27, min = 13.66, max = 14.73\n",
            "Iter 34, avg = 14.26, std = 0.14, min = 14.13, max = 14.73\n",
            "Iter 35, avg = 14.42, std = 0.10, min = 14.29, max = 14.73\n",
            "Iter 36, avg = 14.59, std = 0.51, min = 14.45, max = 17.69\n",
            "Iter 37, avg = 14.78, std = 0.60, min = 14.53, max = 17.69\n",
            "Iter 38, avg = 15.29, std = 0.74, min = 14.62, max = 17.69\n",
            "Iter 39, avg = 16.17, std = 0.71, min = 15.42, max = 18.53\n",
            "Iter 40, avg = 16.80, std = 0.44, min = 16.34, max = 18.53\n",
            "Iter 41, avg = 17.24, std = 0.36, min = 16.87, max = 18.53\n",
            "Iter 42, avg = 17.63, std = 0.28, min = 17.33, max = 18.53\n",
            "Iter 43, avg = 17.93, std = 0.17, min = 17.73, max = 18.53\n",
            "Iter 44, avg = 18.18, std = 0.42, min = 17.98, max = 20.69\n",
            "Iter 45, avg = 18.46, std = 0.57, min = 18.16, max = 20.69\n",
            "Iter 46, avg = 19.21, std = 0.85, min = 18.43, max = 23.39\n",
            "Iter 47, avg = 19.88, std = 0.80, min = 19.35, max = 23.39\n",
            "Iter 48, avg = 20.64, std = 0.94, min = 19.94, max = 23.39\n",
            "Iter 49, avg = 21.68, std = 0.75, min = 20.85, max = 23.39\n",
            "Iter 50, avg = 22.49, std = 0.39, min = 21.97, max = 23.39\n",
            "Iter 51, avg = 22.87, std = 0.21, min = 22.63, max = 23.39\n",
            "Iter 52, avg = 23.11, std = 0.09, min = 22.94, max = 23.39\n",
            "Iter 53, avg = 23.25, std = 0.32, min = 23.16, max = 25.22\n",
            "Iter 54, avg = 23.45, std = 0.50, min = 23.21, max = 25.22\n",
            "Iter 55, avg = 24.04, std = 0.49, min = 23.33, max = 25.22\n",
            "Iter 56, avg = 24.54, std = 0.25, min = 24.26, max = 25.22\n",
            "Iter 57, avg = 24.81, std = 0.14, min = 24.65, max = 25.22\n",
            "Iter 58, avg = 25.05, std = 0.50, min = 24.90, max = 28.12\n",
            "Iter 59, avg = 25.31, std = 0.68, min = 24.99, max = 28.12\n",
            "Iter 60, avg = 25.97, std = 0.71, min = 25.17, max = 28.12\n",
            "Iter 61, avg = 26.80, std = 0.37, min = 26.39, max = 28.12\n",
            "Iter 62, avg = 27.19, std = 0.47, min = 26.86, max = 29.37\n",
            "Iter 63, avg = 27.66, std = 0.54, min = 27.20, max = 29.37\n",
            "Iter 64, avg = 28.26, std = 0.48, min = 27.72, max = 29.37\n",
            "Iter 65, avg = 28.74, std = 0.20, min = 28.48, max = 29.37\n",
            "Iter 66, avg = 29.02, std = 0.53, min = 28.82, max = 32.19\n",
            "Iter 67, avg = 29.39, std = 0.81, min = 28.98, max = 32.19\n",
            "Iter 68, avg = 30.19, std = 0.71, min = 29.22, max = 32.19\n",
            "Iter 69, avg = 30.97, std = 0.52, min = 30.42, max = 33.08\n",
            "Iter 70, avg = 31.54, std = 0.50, min = 31.02, max = 33.08\n",
            "Iter 71, avg = 32.08, std = 0.30, min = 31.72, max = 33.08\n",
            "Iter 72, avg = 32.52, std = 0.81, min = 32.17, max = 37.34\n",
            "Iter 73, avg = 33.05, std = 1.09, min = 32.49, max = 37.34\n",
            "Iter 74, avg = 34.19, std = 1.03, min = 32.93, max = 37.34\n",
            "Iter 75, avg = 35.33, std = 0.69, min = 34.64, max = 37.34\n",
            "Iter 76, avg = 36.08, std = 0.47, min = 35.48, max = 37.34\n",
            "Iter 77, avg = 36.54, std = 0.29, min = 36.24, max = 37.34\n",
            "Iter 78, avg = 36.84, std = 0.20, min = 36.60, max = 37.34\n",
            "Iter 79, avg = 37.06, std = 0.10, min = 36.92, max = 37.34\n",
            "Iter 80, avg = 37.18, std = 0.06, min = 37.11, max = 37.34\n",
            "Iter 81, avg = 37.24, std = 0.03, min = 37.20, max = 37.34\n",
            "Iter 82, avg = 37.27, std = 0.02, min = 37.24, max = 37.34\n",
            "Iter 83, avg = 37.41, std = 0.71, min = 37.28, max = 41.76\n",
            "Iter 84, avg = 37.83, std = 1.25, min = 37.31, max = 42.03\n",
            "Iter 85, avg = 39.15, std = 1.01, min = 37.88, max = 42.03\n",
            "Iter 86, avg = 40.37, std = 1.22, min = 39.59, max = 46.96\n",
            "Iter 87, avg = 41.62, std = 1.94, min = 40.57, max = 50.66\n",
            "Iter 88, avg = 43.64, std = 2.63, min = 41.57, max = 53.41\n",
            "Iter 89, avg = 46.51, std = 2.37, min = 44.13, max = 53.41\n",
            "Iter 90, avg = 49.16, std = 1.14, min = 47.83, max = 53.41\n",
            "Iter 91, avg = 50.57, std = 2.02, min = 49.68, max = 62.37\n",
            "Iter 92, avg = 51.89, std = 2.58, min = 50.44, max = 62.37\n",
            "Iter 93, avg = 54.93, std = 2.73, min = 52.26, max = 62.37\n",
            "Iter 94, avg = 58.00, std = 2.17, min = 55.71, max = 65.52\n",
            "Iter 95, avg = 60.49, std = 2.28, min = 58.58, max = 71.07\n",
            "Iter 96, avg = 62.48, std = 2.28, min = 61.08, max = 71.07\n",
            "Iter 97, avg = 65.13, std = 3.37, min = 62.37, max = 81.83\n",
            "Iter 98, avg = 68.08, std = 3.24, min = 65.48, max = 81.83\n",
            "Iter 99, avg = 70.60, std = 2.71, min = 68.39, max = 81.83\n",
            "Iter 100, avg = 73.59, std = 2.62, min = 70.74, max = 81.83\n",
            "Iter 101, avg = 76.23, std = 1.37, min = 74.82, max = 81.83\n",
            "Iter 102, avg = 77.49, std = 1.18, min = 76.50, max = 81.83\n",
            "Iter 103, avg = 78.89, std = 1.25, min = 77.54, max = 82.91\n",
            "Iter 104, avg = 80.22, std = 0.77, min = 79.35, max = 82.91\n",
            "Iter 105, avg = 81.01, std = 0.54, min = 80.41, max = 82.91\n",
            "Iter 106, avg = 81.74, std = 1.16, min = 81.16, max = 88.43\n",
            "Iter 107, avg = 82.53, std = 1.49, min = 81.73, max = 88.43\n",
            "Iter 108, avg = 84.00, std = 1.58, min = 82.44, max = 88.43\n",
            "Iter 109, avg = 85.93, std = 0.91, min = 84.79, max = 88.43\n",
            "Iter 110, avg = 87.43, std = 3.37, min = 86.36, max = 108.05\n",
            "Iter 111, avg = 89.29, std = 4.69, min = 87.14, max = 108.05\n",
            "Iter 112, avg = 94.15, std = 4.87, min = 88.69, max = 108.05\n",
            "Iter 113, avg = 99.74, std = 2.39, min = 97.13, max = 108.05\n",
            "Iter 114, avg = 102.02, std = 1.90, min = 100.18, max = 108.05\n"
          ]
        }
      ]
    },
    {
      "cell_type": "code",
      "source": [],
      "metadata": {
        "id": "5x-fRKkEycuE"
      },
      "execution_count": null,
      "outputs": []
    },
    {
      "cell_type": "markdown",
      "source": [
        "## Object-oriented revision\n",
        "In this section, I present a refined implementation of the previous problem using an object-oriented paradigm. By leveraging the power of object-oriented programming, this revised code offers enhanced modularity, reusability, and maintainability. The solution is designed around intuitive classes and methods, encapsulating the functionality and data structures necessary to tackle the problem efficiently."
      ],
      "metadata": {
        "id": "KCWXCdC-jt8B"
      }
    }
  ]
}