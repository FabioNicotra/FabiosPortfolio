{
  "nbformat": 4,
  "nbformat_minor": 0,
  "metadata": {
    "colab": {
      "provenance": [],
      "authorship_tag": "ABX9TyNE2/+Mt+qXHZ2kviy9VJ1M",
      "include_colab_link": true
    },
    "kernelspec": {
      "name": "python3",
      "display_name": "Python 3"
    },
    "language_info": {
      "name": "python"
    }
  },
  "cells": [
    {
      "cell_type": "markdown",
      "metadata": {
        "id": "view-in-github",
        "colab_type": "text"
      },
      "source": [
        "<a href=\"https://colab.research.google.com/github/FabioNicotra/FabiosPortfolio/blob/develop/01_GeneticAlgorithm/GeneticAlgorithm.ipynb\" target=\"_parent\"><img src=\"https://colab.research.google.com/assets/colab-badge.svg\" alt=\"Open In Colab\"/></a>"
      ]
    },
    {
      "cell_type": "markdown",
      "source": [
        "# A silly genetic algorithm\n",
        "This project was originally assigned during the course *Data Structures in Python* held by Politecnico di Torino in cooperation with Reply IT.\n",
        "\n",
        "In computer science and operations research, a genetic algorithm is a metaheuristic inspired by the process of natural selection. They are part of a larger families of algorithms known as evolutionary algorithms. Genetic algorithms rely on the existence of a candidates population that evolves in time, exploiting operators such as mutation, crossover and selection, in order to generate high-quality solutions to optimization and search problems.\n",
        "\n",
        "Genetic algorithms *optimize*, i.e., they select the best solution according to given criteria from a set of available alternatives. They efficiently search the solution space thoroughly enough to avoid picking a good answer when a better one is available. They do not perform exhaustive searches of the space, since they don't try every possible solution. They continuously grade solutions and then use them to make choices going forward.\n",
        "\n",
        "Genetic algorithms use a *fitness function* to preserve/discard candidates in a population, and then build the next iteration of such a population according to context rules.\n",
        "\n",
        "The basic process is as follows:\n",
        "1. Randomly generate a population of solutions\n",
        "2. Measure the fitness of each solution\n",
        "3. Select the best solutions and discard the rest\n",
        "4. Cross over elements in the best solutions to make new solutions\n",
        "5. Mutate a small number of elements in the solutions by changing their value\n",
        "6. Return to step 2 and repeat until converge or halt condition.\n",
        "\n",
        "Halting conditions could either be having found a *good enough* solution or having exhausted all our resources, such as number of iterations or reaching a time deadline.\n"
      ],
      "metadata": {
        "id": "s9DHXocrOlL-"
      }
    },
    {
      "cell_type": "markdown",
      "source": [
        "## The smartest dogs in the world (sort of...)\n",
        "We strive to algorithmically generate a breed of smarter dogs, i.e., generate a population of dogs with an average smart factor higher than a given threshold, starting from a population way duller than our target.\n",
        "\n",
        "Let's say for the sake of simplicity that our population has a 50/50 male/female ratio. At each iteration crossover happens, generating new offspring. Most likely the new offspring present the same characteristics of their parents, so we apply mutation to a very limited number of them. Before moving on, we resize our population in order to keep only the smartest individuals. We make sure to keep the same initial gender ratio and the same number of initial individuals. The whole process then becomes a big repeating loop, until convergence or stop."
      ],
      "metadata": {
        "id": "GAi5_Zx5h0Ri"
      }
    },
    {
      "cell_type": "markdown",
      "source": [
        "### Parametrizing our experiments\n",
        "Here follows a set of constants that we can use to determine how our algorithm will evolve. You can play with these number a see different outcomes for your runs."
      ],
      "metadata": {
        "id": "D1ZF43sgiaEo"
      }
    },
    {
      "cell_type": "code",
      "execution_count": 1,
      "metadata": {
        "id": "sK6hjKS0Ji3z"
      },
      "outputs": [],
      "source": [
        "TARGET = 100 # Target \"smartness\" for our population\n",
        "POP_SIZE = 100 # The size of the population at the start of each iteration (keep this even, if you change it)\n",
        "INIT_MIN_SMART = 1 # The minimum smartness of a dog at ITER 0\n",
        "INIT_MAX_SMART = 10 # The maximum smartness of a dog at ITER 0\n",
        "INIT_MODE_SMART = 3 # The most comon smartness value of a dog at ITER 0\n",
        "MUTATE_ODDS = 5e-3 # Probability of mutation for a new puppy\n",
        "MUTATE_MIN_FACTOR = 0.4 # Lower bound for the the product factor we multuply smartness for, if mutation happens\n",
        "MUTATE_MAX_FACTOR = 1.3 # Upper bound for the the product factor we multuply smartness for, if mutation happens\n",
        "LITTER_SIZE = 5 # Puppies born from each pair of adult dogs\n",
        "MAX_ITER = 1000 # Max number of iterations"
      ]
    },
    {
      "cell_type": "markdown",
      "source": [
        "### Generate the initial population\n",
        "We want to generate an initial population of a fixed size with a 50/50 gender split ratio, of dogs with a given initial smartness factor according to parameters. The `random.triangular()` function generates random values in a range with a skew toward a wanted mode. In this first implementation, no information about the gender is assigned because of the 50/50 split ratio assumption."
      ],
      "metadata": {
        "id": "deYoBjeOkzP0"
      }
    },
    {
      "cell_type": "code",
      "source": [
        "import random\n",
        "\n",
        "def populate():\n",
        "    pop = [random.triangular(INIT_MIN_SMART, INIT_MAX_SMART, INIT_MODE_SMART) for _ in range(POP_SIZE)]\n",
        "    return pop"
      ],
      "metadata": {
        "id": "Ee8ZnZd_k4A2"
      },
      "execution_count": 2,
      "outputs": []
    },
    {
      "cell_type": "markdown",
      "source": [
        "### Measure the fitness of the population\n",
        "The goodness of our population is evaluated as the average of the smartness of the individuals with respect to our target value. This function in used as an halting criteria for the main loop.\n",
        "Functions from the `statistics` module are used for this purpose."
      ],
      "metadata": {
        "id": "6APlVVb6vbd8"
      }
    },
    {
      "cell_type": "code",
      "source": [
        "import statistics\n",
        "\n",
        "def fitness(pop):\n",
        "    avg = statistics.mean(pop)\n",
        "    std = statistics.stdev(pop)\n",
        "    return avg, std"
      ],
      "metadata": {
        "id": "PAGFSPrtvoiR"
      },
      "execution_count": 3,
      "outputs": []
    },
    {
      "cell_type": "markdown",
      "source": [
        "### Breed the next generation of dogs\n",
        "We have to generate the new offspring. As a rule, we assume that given a pair of parent dogs, a new puppy smartness will lie in that same min-max range, unless mutation occours.\n",
        "In order to replicate what would happen in nature, we should not assume that smarter dogs pair with smarter dogs. We use `random.shuffle()` on our collection of dogs before pairing them. Each pair breed as many puppies as the litter size parameter indicates."
      ],
      "metadata": {
        "id": "9nKPnKz_wbyB"
      }
    },
    {
      "cell_type": "code",
      "source": [
        "def breed(pop):\n",
        "    random.shuffle(pop)\n",
        "    puppies = []\n",
        "    for i in range(0,len(pop),2):\n",
        "        parents_avg = 0.5*(pop[i]+pop[i+1])\n",
        "        puppies += [random.triangular(pop[i], pop[i+1], parents_avg) for _ in range(LITTER_SIZE)]\n",
        "    return puppies"
      ],
      "metadata": {
        "id": "7Sa9Z2X7wnnf"
      },
      "execution_count": 4,
      "outputs": []
    },
    {
      "cell_type": "markdown",
      "source": [
        "### Select the best candidates\n",
        "At each iteration, we have to resize our current population down to its initial size, preserving only the smartest dogs available for the next iteration. ***We have to make sure to keep also the initial gender split ratio. ***"
      ],
      "metadata": {
        "id": "0QAFvpolv66k"
      }
    },
    {
      "cell_type": "code",
      "source": [
        "def select(pop,puppies):\n",
        "    families = pop + puppies\n",
        "    families.sort(reverse=True)\n",
        "    newGen = families[0:POP_SIZE]\n",
        "    return newGen"
      ],
      "metadata": {
        "id": "Z7pkM37uwTyf"
      },
      "execution_count": 5,
      "outputs": []
    },
    {
      "cell_type": "markdown",
      "source": [
        "### Mutate the set of offspring\n",
        "A small percentage of the puppies should undergo mutation. This could either lead to a lower or a higher smartness value, since their base value is directly multiplied with a random value in the closed range `[MUTATE_MIN_FACTOR, MUTATE_MAX_FACTOR]`."
      ],
      "metadata": {
        "id": "4JNBVKUBxWZw"
      }
    },
    {
      "cell_type": "code",
      "source": [
        "import math\n",
        "\n",
        "def mutate(puppies):\n",
        "    size = len(puppies)\n",
        "    mutants = math.floor(size*MUTATE_ODDS)\n",
        "    random.shuffle(puppies)\n",
        "    for i in range(mutants):\n",
        "        puppies[i] = puppies[i]*random.uniform(MUTATE_MIN_FACTOR,MUTATE_MAX_FACTOR)"
      ],
      "metadata": {
        "id": "jeTaDHifxawm"
      },
      "execution_count": 6,
      "outputs": []
    },
    {
      "cell_type": "markdown",
      "source": [
        "### Put it all together\n",
        "The `main()` function manages the other functions and the primary evolutionary loop. It is also responsible for printing all the relevant information and outputs of our experiment.\n",
        "\n",
        "Numpy was not originally used for the assignment, but I included some lines of code to store the data for visualization."
      ],
      "metadata": {
        "id": "ifCbyDw_yCgW"
      }
    },
    {
      "cell_type": "code",
      "source": [
        "import numpy as np\n",
        "\n",
        "dogs = populate()\n",
        "avg, std = fitness(dogs)\n",
        "n_iter = 0\n",
        "\n",
        "avg_vector, std_vector = np.full((2,MAX_ITER), 0, dtype=float)\n",
        "min_vector, max_vector = np.full((2,MAX_ITER), 0, dtype=float)\n",
        "\n",
        "while avg < TARGET and n_iter < MAX_ITER:\n",
        "    if n_iter > 0:\n",
        "        litter = breed(dogs)\n",
        "        mutate(litter)\n",
        "        dogs = select(dogs, litter)\n",
        "        avg, std = fitness(dogs)\n",
        "    print(f\"Iter {n_iter}, avg = {avg:.2f}, std = {std:.2f}, min = {min(dogs):.2f}, max = {max(dogs):.2f}\")\n",
        "\n",
        "    avg_vector[n_iter], std_vector[n_iter] = avg, std\n",
        "    min_vector[n_iter], max_vector[n_iter] = min(dogs), max(dogs)\n",
        "\n",
        "    n_iter += 1\n",
        "\n",
        "iter_vector = np.arange(0,n_iter)\n",
        "avg_vector, std_vector = avg_vector[:n_iter], std_vector[:n_iter]\n",
        "min_vector, max_vector = min_vector[:n_iter], max_vector[:n_iter]"
      ],
      "metadata": {
        "colab": {
          "base_uri": "https://localhost:8080/"
        },
        "id": "51q3AjXtyEqo",
        "outputId": "bb566385-0a1a-47f8-b520-f759a414edb7"
      },
      "execution_count": 7,
      "outputs": [
        {
          "output_type": "stream",
          "name": "stdout",
          "text": [
            "Iter 0, avg = 4.72, std = 1.90, min = 1.33, max = 8.82\n",
            "Iter 1, avg = 6.68, std = 0.73, min = 5.54, max = 8.82\n",
            "Iter 2, avg = 7.40, std = 0.34, min = 7.02, max = 8.82\n",
            "Iter 3, avg = 7.76, std = 0.22, min = 7.54, max = 8.82\n",
            "Iter 4, avg = 7.97, std = 0.17, min = 7.82, max = 8.82\n",
            "Iter 5, avg = 8.15, std = 0.15, min = 8.00, max = 8.82\n",
            "Iter 6, avg = 8.29, std = 0.11, min = 8.20, max = 8.82\n",
            "Iter 7, avg = 8.41, std = 0.11, min = 8.31, max = 8.82\n",
            "Iter 8, avg = 8.53, std = 0.09, min = 8.43, max = 8.82\n",
            "Iter 9, avg = 8.63, std = 0.05, min = 8.57, max = 8.82\n",
            "Iter 10, avg = 8.69, std = 0.03, min = 8.65, max = 8.82\n",
            "Iter 11, avg = 8.74, std = 0.24, min = 8.70, max = 11.06\n",
            "Iter 12, avg = 8.84, std = 0.40, min = 8.72, max = 11.06\n",
            "Iter 13, avg = 9.09, std = 0.51, min = 8.74, max = 11.06\n",
            "Iter 14, avg = 9.66, std = 0.35, min = 9.28, max = 11.06\n",
            "Iter 15, avg = 10.04, std = 0.28, min = 9.76, max = 11.06\n",
            "Iter 16, avg = 10.35, std = 0.29, min = 10.12, max = 12.24\n",
            "Iter 17, avg = 10.62, std = 0.27, min = 10.40, max = 12.24\n",
            "Iter 18, avg = 10.88, std = 0.26, min = 10.67, max = 12.24\n",
            "Iter 19, avg = 11.15, std = 0.25, min = 10.92, max = 12.24\n",
            "Iter 20, avg = 11.42, std = 0.25, min = 11.20, max = 12.24\n",
            "Iter 21, avg = 11.71, std = 0.20, min = 11.47, max = 12.24\n",
            "Iter 22, avg = 11.93, std = 0.12, min = 11.79, max = 12.24\n",
            "Iter 23, avg = 12.10, std = 0.33, min = 11.98, max = 15.32\n",
            "Iter 24, avg = 12.23, std = 0.46, min = 12.10, max = 15.32\n",
            "Iter 25, avg = 12.52, std = 0.67, min = 12.14, max = 15.32\n",
            "Iter 26, avg = 13.20, std = 0.62, min = 12.56, max = 15.32\n",
            "Iter 27, avg = 13.83, std = 0.42, min = 13.39, max = 15.32\n",
            "Iter 28, avg = 14.29, std = 0.23, min = 13.98, max = 15.32\n",
            "Iter 29, avg = 14.53, std = 0.17, min = 14.35, max = 15.32\n",
            "Iter 30, avg = 14.72, std = 0.14, min = 14.59, max = 15.32\n",
            "Iter 31, avg = 14.87, std = 0.10, min = 14.76, max = 15.32\n",
            "Iter 32, avg = 14.98, std = 0.09, min = 14.90, max = 15.32\n",
            "Iter 33, avg = 15.08, std = 0.08, min = 14.98, max = 15.32\n",
            "Iter 34, avg = 15.20, std = 0.38, min = 15.11, max = 18.92\n",
            "Iter 35, avg = 15.38, std = 0.69, min = 15.17, max = 18.92\n",
            "Iter 36, avg = 15.90, std = 1.02, min = 15.24, max = 19.42\n",
            "Iter 37, avg = 17.05, std = 0.89, min = 16.12, max = 19.42\n",
            "Iter 38, avg = 18.01, std = 0.46, min = 17.46, max = 19.42\n",
            "Iter 39, avg = 18.56, std = 0.46, min = 18.14, max = 21.65\n",
            "Iter 40, avg = 18.99, std = 0.41, min = 18.68, max = 21.65\n",
            "Iter 41, avg = 19.31, std = 0.49, min = 19.01, max = 21.65\n",
            "Iter 42, avg = 19.75, std = 0.46, min = 19.32, max = 21.65\n",
            "Iter 43, avg = 20.28, std = 0.36, min = 19.93, max = 21.65\n",
            "Iter 44, avg = 20.74, std = 0.21, min = 20.44, max = 21.65\n",
            "Iter 45, avg = 20.95, std = 0.16, min = 20.79, max = 21.65\n",
            "Iter 46, avg = 21.11, std = 0.13, min = 20.99, max = 21.65\n",
            "Iter 47, avg = 21.27, std = 0.34, min = 21.11, max = 24.47\n",
            "Iter 48, avg = 21.45, std = 0.46, min = 21.29, max = 24.47\n",
            "Iter 49, avg = 21.75, std = 0.61, min = 21.38, max = 24.47\n",
            "Iter 50, avg = 22.35, std = 0.49, min = 21.83, max = 24.47\n",
            "Iter 51, avg = 22.88, std = 0.54, min = 22.48, max = 26.67\n",
            "Iter 52, avg = 23.40, std = 0.60, min = 22.97, max = 26.67\n",
            "Iter 53, avg = 23.90, std = 0.59, min = 23.43, max = 26.67\n",
            "Iter 54, avg = 24.55, std = 0.54, min = 23.97, max = 26.67\n",
            "Iter 55, avg = 25.15, std = 0.63, min = 24.64, max = 29.34\n",
            "Iter 56, avg = 25.74, std = 0.59, min = 25.27, max = 29.34\n",
            "Iter 57, avg = 26.30, std = 0.61, min = 25.84, max = 29.34\n",
            "Iter 58, avg = 26.97, std = 0.54, min = 26.43, max = 29.34\n",
            "Iter 59, avg = 27.55, std = 0.71, min = 27.06, max = 32.70\n",
            "Iter 60, avg = 28.23, std = 1.02, min = 27.59, max = 35.55\n",
            "Iter 61, avg = 29.02, std = 1.23, min = 28.22, max = 35.55\n",
            "Iter 62, avg = 30.20, std = 1.25, min = 29.04, max = 35.55\n",
            "Iter 63, avg = 31.52, std = 1.11, min = 30.61, max = 37.58\n",
            "Iter 64, avg = 32.62, std = 1.00, min = 31.69, max = 37.58\n",
            "Iter 65, avg = 33.75, std = 0.93, min = 32.91, max = 39.42\n",
            "Iter 66, avg = 34.62, std = 1.03, min = 33.89, max = 39.42\n",
            "Iter 67, avg = 35.66, std = 0.92, min = 34.73, max = 39.42\n",
            "Iter 68, avg = 36.65, std = 0.66, min = 35.87, max = 39.42\n",
            "Iter 69, avg = 37.30, std = 0.37, min = 36.91, max = 39.42\n",
            "Iter 70, avg = 37.65, std = 0.31, min = 37.42, max = 39.42\n",
            "Iter 71, avg = 37.94, std = 0.36, min = 37.67, max = 39.42\n",
            "Iter 72, avg = 38.35, std = 0.81, min = 37.94, max = 45.76\n",
            "Iter 73, avg = 38.90, std = 1.16, min = 38.37, max = 45.76\n",
            "Iter 74, avg = 39.82, std = 1.52, min = 38.78, max = 45.76\n",
            "Iter 75, avg = 41.42, std = 1.26, min = 40.15, max = 45.76\n",
            "Iter 76, avg = 42.83, std = 0.93, min = 41.79, max = 45.76\n",
            "Iter 77, avg = 43.84, std = 0.71, min = 42.95, max = 45.76\n",
            "Iter 78, avg = 44.66, std = 0.29, min = 44.24, max = 45.76\n",
            "Iter 79, avg = 44.90, std = 0.19, min = 44.77, max = 45.76\n",
            "Iter 80, avg = 45.07, std = 0.18, min = 44.88, max = 45.76\n",
            "Iter 81, avg = 45.27, std = 0.16, min = 45.09, max = 45.76\n",
            "Iter 82, avg = 45.45, std = 0.11, min = 45.32, max = 45.76\n",
            "Iter 83, avg = 45.56, std = 0.07, min = 45.48, max = 45.76\n",
            "Iter 84, avg = 45.74, std = 1.04, min = 45.60, max = 56.06\n",
            "Iter 85, avg = 46.03, std = 1.62, min = 45.64, max = 56.06\n",
            "Iter 86, avg = 46.90, std = 2.11, min = 45.66, max = 56.06\n",
            "Iter 87, avg = 49.40, std = 1.76, min = 47.55, max = 57.94\n",
            "Iter 88, avg = 51.20, std = 1.43, min = 49.90, max = 57.94\n",
            "Iter 89, avg = 52.68, std = 1.20, min = 51.35, max = 57.94\n",
            "Iter 90, avg = 54.00, std = 0.87, min = 53.02, max = 57.94\n",
            "Iter 91, avg = 55.04, std = 1.58, min = 54.30, max = 69.09\n",
            "Iter 92, avg = 56.27, std = 2.26, min = 55.17, max = 69.09\n",
            "Iter 93, avg = 57.99, std = 2.72, min = 56.16, max = 69.09\n",
            "Iter 94, avg = 61.12, std = 2.31, min = 58.70, max = 69.09\n",
            "Iter 95, avg = 63.51, std = 1.80, min = 61.76, max = 69.09\n",
            "Iter 96, avg = 65.57, std = 1.28, min = 64.11, max = 72.23\n",
            "Iter 97, avg = 67.00, std = 1.08, min = 65.93, max = 72.23\n",
            "Iter 98, avg = 68.00, std = 0.84, min = 67.13, max = 72.23\n",
            "Iter 99, avg = 68.92, std = 1.19, min = 68.23, max = 78.82\n",
            "Iter 100, avg = 69.71, std = 1.43, min = 69.03, max = 78.82\n",
            "Iter 101, avg = 70.81, std = 1.58, min = 69.56, max = 78.82\n",
            "Iter 102, avg = 72.43, std = 1.46, min = 71.27, max = 78.82\n",
            "Iter 103, avg = 73.88, std = 1.35, min = 72.60, max = 78.82\n",
            "Iter 104, avg = 75.41, std = 1.32, min = 74.39, max = 84.75\n",
            "Iter 105, avg = 76.70, std = 1.47, min = 75.69, max = 84.75\n",
            "Iter 106, avg = 78.16, std = 1.58, min = 76.75, max = 84.75\n",
            "Iter 107, avg = 79.75, std = 1.25, min = 78.61, max = 84.75\n",
            "Iter 108, avg = 81.15, std = 0.96, min = 80.02, max = 84.75\n",
            "Iter 109, avg = 82.19, std = 0.54, min = 81.60, max = 84.75\n",
            "Iter 110, avg = 82.75, std = 0.49, min = 82.37, max = 84.75\n",
            "Iter 111, avg = 83.38, std = 1.87, min = 82.84, max = 101.51\n",
            "Iter 112, avg = 84.37, std = 2.96, min = 83.33, max = 101.51\n",
            "Iter 113, avg = 86.74, std = 4.40, min = 83.79, max = 108.55\n",
            "Iter 114, avg = 90.95, std = 3.79, min = 87.56, max = 108.55\n",
            "Iter 115, avg = 94.94, std = 3.62, min = 91.64, max = 108.55\n",
            "Iter 116, avg = 99.19, std = 3.84, min = 95.64, max = 121.06\n",
            "Iter 117, avg = 103.37, std = 3.93, min = 99.89, max = 125.27\n"
          ]
        }
      ]
    },
    {
      "cell_type": "code",
      "source": [
        "import matplotlib.pyplot as plt\n",
        "\n",
        "fig1, ax1 = plt.subplots()\n",
        "\n",
        "ax1.plot(iter_vector, avg_vector, 'b-', label='Average smartness')\n",
        "ax1.fill_between(iter_vector, y1 = min_vector, y2 = max_vector, alpha = 0.25)\n",
        "ax1.set_xlabel('Generation')\n",
        "ax1.set_ylabel('Fitness', color='b')\n",
        "ax1.tick_params('y', colors='b')\n",
        "plt.axhline(y=TARGET, color='g', linestyle='--', label='Target')\n",
        "plt.legend(loc='upper left')\n",
        "ax1.set_ylim(bottom=0)\n",
        "\n",
        "ax2 = ax1.twinx()\n",
        "\n",
        "ax2.plot(iter_vector, std_vector, 'r--', linewidth=0.5, label='Data 2')\n",
        "ax2.set_ylabel('Standard deviation', color='r')\n",
        "ax2.tick_params('y', colors='r')\n",
        "ax2.set_ylim(bottom=0)\n",
        "\n",
        "ax1.grid(True)\n",
        "plt.show()\n"
      ],
      "metadata": {
        "colab": {
          "base_uri": "https://localhost:8080/",
          "height": 449
        },
        "id": "5x-fRKkEycuE",
        "outputId": "70b984ee-abff-41b0-e278-fd7b0aed945c"
      },
      "execution_count": 8,
      "outputs": [
        {
          "output_type": "display_data",
          "data": {
            "text/plain": [
              "<Figure size 640x480 with 2 Axes>"
            ],
            "image/png": "[encoded data removed]"
          },
          "metadata": {}
        }
      ]
    },
    {
      "cell_type": "markdown",
      "source": [
        "The plot show the evolution of the poulation smartness, as well as the standard deviation of its fitness. Some conclusions about genetic algorithms can be drawn from it:\n",
        "\n",
        "1. Convergence: As the generations progress, if the average fitness steadily increases while the standard deviation decreases, it indicates that the genetic algorithm is converging towards a better solution. This suggests that the algorithm is effectively exploring and exploiting the search space, gradually improving the population's fitness.\n",
        "\n",
        "2. Plateau or Stagnation: If the average fitness remains relatively constant over multiple generations, accompanied by a low standard deviation, it indicates that the algorithm has reached a plateau or stagnation point. This implies that further progress in improving the fitness is limited, and alternative strategies may need to be considered, such as modifying the genetic operators, increasing the population size, or exploring different parameter settings.\n",
        "\n",
        "3. Exploration vs. Exploitation: Observing the relationship between the average fitness and standard deviation can provide insights into the balance between exploration and exploitation in the genetic algorithm. If the average fitness increases, but the standard deviation remains high, it suggests that the algorithm is actively exploring the search space, introducing diversity into the population. On the other hand, if the average fitness increases, accompanied by a decreasing standard deviation, it indicates that the algorithm is focusing more on exploiting promising solutions within a narrower region of the search space.\n",
        "\n",
        "4. Early Convergence or Premature Stagnation: If the average fitness quickly reaches a high level but the standard deviation remains large, it suggests the possibility of early convergence or premature stagnation. In such cases, the algorithm may have prematurely converged to a suboptimal solution due to limited exploration, leading to a lack of diversity in the population.\n",
        "\n",
        "\n"
      ],
      "metadata": {
        "id": "UrqIV2uhHcQf"
      }
    },
    {
      "cell_type": "markdown",
      "source": [
        "## Object-oriented revision\n",
        "This second section presents a revised implementation of the problem, leveraging an object-oriented paradigm. While the primary focus remains on the genetic algorithm, I have introduced additional features that showcase the advantages of an object-oriented approach. These supplementary functionalities, although not essential to the genetic algorithm itself, demonstrate how an object-oriented paradigm enables easier implementation. By incorporating these features, the code becomes more versatile and highlights the flexibility and extensibility of object-oriented programming."
      ],
      "metadata": {
        "id": "KCWXCdC-jt8B"
      }
    },
    {
      "cell_type": "markdown",
      "source": [
        "The population size of the genetic algorithm is made variable. To facilitate this, two additional constants have been introduced: the initial population size and its maximum allowed value."
      ],
      "metadata": {
        "id": "mPnL_l5zKQ3A"
      }
    },
    {
      "cell_type": "code",
      "source": [
        "INIT_POP_SIZE = 10 # The size of the population at ITER 0\n",
        "MAX_POP_SIZE = POP_SIZE # The maximum size of the population"
      ],
      "metadata": {
        "id": "2QqY6APFGJtH"
      },
      "execution_count": 9,
      "outputs": []
    },
    {
      "cell_type": "markdown",
      "source": [
        "### Dog class\n",
        "The `Dog` class is designed to encapsulate information about individual dogs, including their gender and smartness. This object-oriented approach provides a convenient and organized way to store and access data specific to each dog. Additionally, the Dog class offers a straightforward comparison mechanism by evaluating the smartness of two dogs. This simplifies the process of comparing dogs and enables efficient sorting or ranking."
      ],
      "metadata": {
        "id": "5Kx38pQlPGPj"
      }
    },
    {
      "cell_type": "code",
      "source": [
        "class Dog:\n",
        "    def __init__(self, smartness=INIT_MIN_SMART):\n",
        "        self.gender = 'm' if random.getrandbits(1) else 'f'\n",
        "        self.smartness = smartness\n",
        "\n",
        "    def __repr__(self):\n",
        "        className = type(self).__name__\n",
        "        gender = 'male' if self.gender == 'm' else 'female'\n",
        "        return f\"{className}, {gender}, smartness = {self.smartness:.2f}\"\n",
        "\n",
        "    def __eq__(self, other):\n",
        "        if isinstance(other, Dog):\n",
        "            return self.smartness == other.smartness\n",
        "        return NotImplemented\n",
        "\n",
        "    def __lt__(self,other):\n",
        "        if isinstance(other, Dog):\n",
        "            return self.smartness < other.smartness\n",
        "        return NotImplemented"
      ],
      "metadata": {
        "id": "qwmcGXLpPG0E"
      },
      "execution_count": 10,
      "outputs": []
    },
    {
      "cell_type": "markdown",
      "source": [
        "### Breed class\n",
        "The `Breed` class represents a collection of distinct `Dog` objects, each possessing its own smartness and gender attributes. Unlike the previous version, the population no longer adheres to a fixed 50/50 gender split ratio. Instead, the `mate()` method, implemented within the `Breed` class, takes charge of forming couples by maximizing the number of allowable pairs."
      ],
      "metadata": {
        "id": "Hyr54xaHRD5o"
      }
    },
    {
      "cell_type": "code",
      "source": [
        "class Breed:\n",
        "    def __init__(self, pop_size=INIT_POP_SIZE, litter_size=LITTER_SIZE):\n",
        "        self.pop_size = pop_size\n",
        "        self.litter_size = litter_size\n",
        "        self.individuals = [Dog(random.triangular(INIT_MIN_SMART, INIT_MAX_SMART, INIT_MODE_SMART)) for _ in range(pop_size)]\n",
        "\n",
        "    def countGender(self):\n",
        "        genders = [self.individuals[i].gender for i in range(len(self.individuals))]\n",
        "        m = genders.count('m')\n",
        "        f = genders.count('f')\n",
        "        return m,f\n",
        "\n",
        "    def fitness(self):\n",
        "        pts = [self.individuals[i].smartness for i in range(len(self.individuals))]\n",
        "        avg = statistics.mean(pts)\n",
        "        std = statistics.stdev(pts)\n",
        "        return avg, std\n",
        "\n",
        "    def mate(self):\n",
        "        males = list()\n",
        "        females = list()\n",
        "        litter = list()\n",
        "        for i in range(len(self.individuals)):\n",
        "            males.append(self.individuals[i]) if self.individuals[i].gender == 'm' else females.append(self.individuals[i])\n",
        "        random.shuffle(males)\n",
        "        random.shuffle(females)\n",
        "        nCouples = min(len(males),len(females))\n",
        "        for i in range(nCouples):\n",
        "            mother_pts = females[i].smartness\n",
        "            father_pts = males[i].smartness\n",
        "            litter += [Dog(random.uniform(mother_pts, father_pts)) for _ in range(self.litter_size)]\n",
        "        self.mutate(litter)\n",
        "        self.individuals += litter\n",
        "        return\n",
        "\n",
        "    def select(self,max_pop_size = MAX_POP_SIZE):\n",
        "        self.individuals.sort(reverse=True)\n",
        "        if len(self.individuals)>max_pop_size:\n",
        "            del self.individuals[max_pop_size:]\n",
        "        return\n",
        "\n",
        "    def mutate(self, litter):\n",
        "        size = len(litter)\n",
        "        mutants = math.floor(size*MUTATE_ODDS)\n",
        "        random.shuffle(litter)\n",
        "        for i in range(mutants):\n",
        "            litter[i].smartness = litter[i].smartness *random.uniform(MUTATE_MIN_FACTOR,MUTATE_MAX_FACTOR)\n",
        "\n",
        "    def __repr__(self):\n",
        "        className = type(self).__name__\n",
        "        m,f = self.countGender()\n",
        "        avg, std = self.fitness()\n",
        "        return f\"Population = {len(self.individuals)} ({m} males, {f} females)\\n Fitness: avg = {avg:.2f}, std = {std:.2f}\"\n"
      ],
      "metadata": {
        "id": "U9wpPE9-RHCS"
      },
      "execution_count": 11,
      "outputs": []
    },
    {
      "cell_type": "code",
      "source": [
        "dogs = Breed()\n",
        "avg, _ = dogs.fitness()\n",
        "n_iter = 0\n",
        "\n",
        "avg_vector, std_vector = np.full((2,MAX_ITER), 0, dtype=float)\n",
        "min_vector, max_vector = np.full((2,MAX_ITER), 0, dtype=float)\n",
        "\n",
        "while avg < TARGET and n_iter < MAX_ITER:\n",
        "    if n_iter > 0:\n",
        "        dogs.mate()\n",
        "        dogs.select()\n",
        "    avg, std = dogs.fitness()\n",
        "    print(f\"Generation {n_iter}: {dogs}\")\n",
        "\n",
        "    avg_vector[n_iter], std_vector[n_iter] = avg, std\n",
        "    min_vector[n_iter], max_vector[n_iter] = min(dogs.individuals).smartness, max(dogs.individuals).smartness\n",
        "\n",
        "    n_iter += 1\n",
        "\n",
        "iter_vector = np.arange(0,n_iter)\n",
        "avg_vector, std_vector = avg_vector[:n_iter], std_vector[:n_iter]\n",
        "min_vector, max_vector = min_vector[:n_iter], max_vector[:n_iter]"
      ],
      "metadata": {
        "colab": {
          "base_uri": "https://localhost:8080/"
        },
        "id": "X31iwwALW1JR",
        "outputId": "186c1a57-da08-4acc-c45c-a1b74643da12"
      },
      "execution_count": 12,
      "outputs": [
        {
          "output_type": "stream",
          "name": "stdout",
          "text": [
            "Generation 0: Population = 10 (7 males, 3 females)\n",
            " Fitness: avg = 4.43, std = 2.01\n",
            "Generation 1: Population = 25 (13 males, 12 females)\n",
            " Fitness: avg = 4.41, std = 1.69\n",
            "Generation 2: Population = 85 (47 males, 38 females)\n",
            " Fitness: avg = 4.49, std = 1.48\n",
            "Generation 3: Population = 100 (55 males, 45 females)\n",
            " Fitness: avg = 5.86, std = 0.93\n",
            "Generation 4: Population = 100 (47 males, 53 females)\n",
            " Fitness: avg = 6.80, std = 0.83\n",
            "Generation 5: Population = 100 (42 males, 58 females)\n",
            " Fitness: avg = 7.70, std = 0.45\n",
            "Generation 6: Population = 100 (53 males, 47 females)\n",
            " Fitness: avg = 8.18, std = 0.23\n",
            "Generation 7: Population = 100 (51 males, 49 females)\n",
            " Fitness: avg = 8.42, std = 0.12\n",
            "Generation 8: Population = 100 (51 males, 49 females)\n",
            " Fitness: avg = 8.55, std = 0.06\n",
            "Generation 9: Population = 100 (45 males, 55 females)\n",
            " Fitness: avg = 8.61, std = 0.03\n",
            "Generation 10: Population = 100 (47 males, 53 females)\n",
            " Fitness: avg = 8.64, std = 0.02\n",
            "Generation 11: Population = 100 (53 males, 47 females)\n",
            " Fitness: avg = 8.67, std = 0.08\n",
            "Generation 12: Population = 100 (46 males, 54 females)\n",
            " Fitness: avg = 8.71, std = 0.10\n",
            "Generation 13: Population = 100 (47 males, 53 females)\n",
            " Fitness: avg = 8.77, std = 0.15\n",
            "Generation 14: Population = 100 (48 males, 52 females)\n",
            " Fitness: avg = 8.91, std = 0.17\n",
            "Generation 15: Population = 100 (56 males, 44 females)\n",
            " Fitness: avg = 9.12, std = 0.27\n",
            "Generation 16: Population = 100 (63 males, 37 females)\n",
            " Fitness: avg = 9.28, std = 0.29\n",
            "Generation 17: Population = 100 (52 males, 48 females)\n",
            " Fitness: avg = 9.44, std = 0.31\n",
            "Generation 18: Population = 100 (48 males, 52 females)\n",
            " Fitness: avg = 9.66, std = 0.31\n",
            "Generation 19: Population = 100 (52 males, 48 females)\n",
            " Fitness: avg = 9.98, std = 0.31\n",
            "Generation 20: Population = 100 (49 males, 51 females)\n",
            " Fitness: avg = 10.31, std = 0.23\n",
            "Generation 21: Population = 100 (49 males, 51 females)\n",
            " Fitness: avg = 10.58, std = 0.18\n",
            "Generation 22: Population = 100 (48 males, 52 females)\n",
            " Fitness: avg = 10.77, std = 0.20\n",
            "Generation 23: Population = 100 (60 males, 40 females)\n",
            " Fitness: avg = 11.00, std = 0.23\n",
            "Generation 24: Population = 100 (59 males, 41 females)\n",
            " Fitness: avg = 11.24, std = 0.15\n",
            "Generation 25: Population = 100 (55 males, 45 females)\n",
            " Fitness: avg = 11.40, std = 0.34\n",
            "Generation 26: Population = 100 (50 males, 50 females)\n",
            " Fitness: avg = 11.51, std = 0.33\n",
            "Generation 27: Population = 100 (46 males, 54 females)\n",
            " Fitness: avg = 11.80, std = 0.57\n",
            "Generation 28: Population = 100 (54 males, 46 females)\n",
            " Fitness: avg = 12.30, std = 0.68\n",
            "Generation 29: Population = 100 (53 males, 47 females)\n",
            " Fitness: avg = 13.01, std = 0.57\n",
            "Generation 30: Population = 100 (50 males, 50 females)\n",
            " Fitness: avg = 13.68, std = 0.35\n",
            "Generation 31: Population = 100 (56 males, 44 females)\n",
            " Fitness: avg = 14.14, std = 0.21\n",
            "Generation 32: Population = 100 (56 males, 44 females)\n",
            " Fitness: avg = 14.37, std = 0.10\n",
            "Generation 33: Population = 100 (53 males, 47 females)\n",
            " Fitness: avg = 14.47, std = 0.08\n",
            "Generation 34: Population = 100 (50 males, 50 females)\n",
            " Fitness: avg = 14.55, std = 0.05\n",
            "Generation 35: Population = 100 (52 males, 48 females)\n",
            " Fitness: avg = 14.61, std = 0.04\n",
            "Generation 36: Population = 100 (51 males, 49 females)\n",
            " Fitness: avg = 14.65, std = 0.02\n",
            "Generation 37: Population = 100 (60 males, 40 females)\n",
            " Fitness: avg = 14.67, std = 0.01\n",
            "Generation 38: Population = 100 (53 males, 47 females)\n",
            " Fitness: avg = 14.68, std = 0.01\n",
            "Generation 39: Population = 100 (61 males, 39 females)\n",
            " Fitness: avg = 14.71, std = 0.21\n",
            "Generation 40: Population = 100 (44 males, 56 females)\n",
            " Fitness: avg = 14.72, std = 0.21\n",
            "Generation 41: Population = 100 (49 males, 51 females)\n",
            " Fitness: avg = 14.76, std = 0.28\n",
            "Generation 42: Population = 100 (48 males, 52 females)\n",
            " Fitness: avg = 14.92, std = 0.57\n",
            "Generation 43: Population = 100 (54 males, 46 females)\n",
            " Fitness: avg = 15.49, std = 0.77\n",
            "Generation 44: Population = 100 (53 males, 47 females)\n",
            " Fitness: avg = 16.29, std = 0.75\n",
            "Generation 45: Population = 100 (60 males, 40 females)\n",
            " Fitness: avg = 17.06, std = 0.62\n",
            "Generation 46: Population = 100 (56 males, 44 females)\n",
            " Fitness: avg = 17.68, std = 0.33\n",
            "Generation 47: Population = 100 (54 males, 46 females)\n",
            " Fitness: avg = 17.99, std = 0.21\n",
            "Generation 48: Population = 100 (58 males, 42 females)\n",
            " Fitness: avg = 18.19, std = 0.16\n",
            "Generation 49: Population = 100 (60 males, 40 females)\n",
            " Fitness: avg = 18.36, std = 0.11\n",
            "Generation 50: Population = 100 (64 males, 36 females)\n",
            " Fitness: avg = 18.47, std = 0.06\n",
            "Generation 51: Population = 100 (52 males, 48 females)\n",
            " Fitness: avg = 18.53, std = 0.03\n",
            "Generation 52: Population = 100 (60 males, 40 females)\n",
            " Fitness: avg = 18.56, std = 0.02\n",
            "Generation 53: Population = 100 (48 males, 52 females)\n",
            " Fitness: avg = 18.61, std = 0.35\n",
            "Generation 54: Population = 100 (52 males, 48 females)\n",
            " Fitness: avg = 18.80, std = 0.75\n",
            "Generation 55: Population = 100 (58 males, 42 females)\n",
            " Fitness: avg = 19.31, std = 1.12\n",
            "Generation 56: Population = 100 (58 males, 42 females)\n",
            " Fitness: avg = 20.57, std = 0.78\n",
            "Generation 57: Population = 100 (47 males, 53 females)\n",
            " Fitness: avg = 21.42, std = 0.58\n",
            "Generation 58: Population = 100 (49 males, 51 females)\n",
            " Fitness: avg = 22.04, std = 0.51\n",
            "Generation 59: Population = 100 (56 males, 44 females)\n",
            " Fitness: avg = 22.61, std = 0.51\n",
            "Generation 60: Population = 100 (54 males, 46 females)\n",
            " Fitness: avg = 23.15, std = 0.41\n",
            "Generation 61: Population = 100 (50 males, 50 females)\n",
            " Fitness: avg = 23.66, std = 0.57\n",
            "Generation 62: Population = 100 (48 males, 52 females)\n",
            " Fitness: avg = 24.05, std = 0.74\n",
            "Generation 63: Population = 100 (49 males, 51 females)\n",
            " Fitness: avg = 24.61, std = 1.02\n",
            "Generation 64: Population = 100 (50 males, 50 females)\n",
            " Fitness: avg = 25.50, std = 0.98\n",
            "Generation 65: Population = 100 (57 males, 43 females)\n",
            " Fitness: avg = 26.72, std = 1.01\n",
            "Generation 66: Population = 100 (55 males, 45 females)\n",
            " Fitness: avg = 27.83, std = 1.01\n",
            "Generation 67: Population = 100 (50 males, 50 females)\n",
            " Fitness: avg = 28.59, std = 1.04\n",
            "Generation 68: Population = 100 (49 males, 51 females)\n",
            " Fitness: avg = 29.61, std = 1.14\n",
            "Generation 69: Population = 100 (62 males, 38 females)\n",
            " Fitness: avg = 30.87, std = 0.82\n",
            "Generation 70: Population = 100 (56 males, 44 females)\n",
            " Fitness: avg = 31.72, std = 0.62\n",
            "Generation 71: Population = 100 (51 males, 49 females)\n",
            " Fitness: avg = 32.35, std = 0.34\n",
            "Generation 72: Population = 100 (45 males, 55 females)\n",
            " Fitness: avg = 32.74, std = 0.36\n",
            "Generation 73: Population = 100 (50 males, 50 females)\n",
            " Fitness: avg = 33.07, std = 0.52\n",
            "Generation 74: Population = 100 (51 males, 49 females)\n",
            " Fitness: avg = 33.52, std = 0.62\n",
            "Generation 75: Population = 100 (48 males, 52 females)\n",
            " Fitness: avg = 34.24, std = 0.51\n",
            "Generation 76: Population = 100 (46 males, 54 females)\n",
            " Fitness: avg = 34.83, std = 0.21\n",
            "Generation 77: Population = 100 (50 males, 50 females)\n",
            " Fitness: avg = 35.15, std = 0.87\n",
            "Generation 78: Population = 100 (56 males, 44 females)\n",
            " Fitness: avg = 35.51, std = 1.25\n",
            "Generation 79: Population = 100 (58 males, 42 females)\n",
            " Fitness: avg = 36.38, std = 1.91\n",
            "Generation 80: Population = 100 (53 males, 47 females)\n",
            " Fitness: avg = 38.23, std = 1.68\n",
            "Generation 81: Population = 100 (46 males, 54 females)\n",
            " Fitness: avg = 40.07, std = 1.30\n",
            "Generation 82: Population = 100 (46 males, 54 females)\n",
            " Fitness: avg = 41.35, std = 0.99\n",
            "Generation 83: Population = 100 (49 males, 51 females)\n",
            " Fitness: avg = 42.54, std = 0.85\n",
            "Generation 84: Population = 100 (56 males, 44 females)\n",
            " Fitness: avg = 43.24, std = 0.90\n",
            "Generation 85: Population = 100 (46 males, 54 females)\n",
            " Fitness: avg = 43.72, std = 0.97\n",
            "Generation 86: Population = 100 (49 males, 51 females)\n",
            " Fitness: avg = 44.60, std = 1.21\n",
            "Generation 87: Population = 100 (45 males, 55 females)\n",
            " Fitness: avg = 46.06, std = 1.19\n",
            "Generation 88: Population = 100 (58 males, 42 females)\n",
            " Fitness: avg = 47.30, std = 0.86\n",
            "Generation 89: Population = 100 (53 males, 47 females)\n",
            " Fitness: avg = 48.09, std = 0.79\n",
            "Generation 90: Population = 100 (51 males, 49 females)\n",
            " Fitness: avg = 48.93, std = 0.57\n",
            "Generation 91: Population = 100 (47 males, 53 females)\n",
            " Fitness: avg = 49.59, std = 0.34\n",
            "Generation 92: Population = 100 (56 males, 44 females)\n",
            " Fitness: avg = 50.06, std = 1.12\n",
            "Generation 93: Population = 100 (51 males, 49 females)\n",
            " Fitness: avg = 50.64, std = 1.82\n",
            "Generation 94: Population = 100 (57 males, 43 females)\n",
            " Fitness: avg = 51.80, std = 2.62\n",
            "Generation 95: Population = 100 (55 males, 45 females)\n",
            " Fitness: avg = 54.52, std = 2.46\n",
            "Generation 96: Population = 100 (54 males, 46 females)\n",
            " Fitness: avg = 57.44, std = 1.56\n",
            "Generation 97: Population = 100 (60 males, 40 females)\n",
            " Fitness: avg = 59.12, std = 0.88\n",
            "Generation 98: Population = 100 (60 males, 40 females)\n",
            " Fitness: avg = 60.07, std = 0.68\n",
            "Generation 99: Population = 100 (49 males, 51 females)\n",
            " Fitness: avg = 60.67, std = 0.62\n",
            "Generation 100: Population = 100 (50 males, 50 females)\n",
            " Fitness: avg = 61.30, std = 0.73\n",
            "Generation 101: Population = 100 (50 males, 50 females)\n",
            " Fitness: avg = 62.13, std = 0.65\n",
            "Generation 102: Population = 100 (54 males, 46 females)\n",
            " Fitness: avg = 62.79, std = 0.56\n",
            "Generation 103: Population = 100 (52 males, 48 females)\n",
            " Fitness: avg = 63.29, std = 0.46\n",
            "Generation 104: Population = 100 (47 males, 53 females)\n",
            " Fitness: avg = 63.82, std = 0.38\n",
            "Generation 105: Population = 100 (42 males, 58 females)\n",
            " Fitness: avg = 64.24, std = 0.25\n",
            "Generation 106: Population = 100 (53 males, 47 females)\n",
            " Fitness: avg = 64.56, std = 0.70\n",
            "Generation 107: Population = 100 (53 males, 47 females)\n",
            " Fitness: avg = 64.89, std = 1.05\n",
            "Generation 108: Population = 100 (54 males, 46 females)\n",
            " Fitness: avg = 65.46, std = 1.36\n",
            "Generation 109: Population = 100 (40 males, 60 females)\n",
            " Fitness: avg = 66.74, std = 1.31\n",
            "Generation 110: Population = 100 (52 males, 48 females)\n",
            " Fitness: avg = 68.12, std = 0.99\n",
            "Generation 111: Population = 100 (48 males, 52 females)\n",
            " Fitness: avg = 69.23, std = 0.57\n",
            "Generation 112: Population = 100 (49 males, 51 females)\n",
            " Fitness: avg = 69.85, std = 0.39\n",
            "Generation 113: Population = 100 (44 males, 56 females)\n",
            " Fitness: avg = 70.30, std = 0.27\n",
            "Generation 114: Population = 100 (38 males, 62 females)\n",
            " Fitness: avg = 70.60, std = 0.20\n",
            "Generation 115: Population = 100 (48 males, 52 females)\n",
            " Fitness: avg = 70.80, std = 0.16\n",
            "Generation 116: Population = 100 (54 males, 46 females)\n",
            " Fitness: avg = 71.16, std = 1.98\n",
            "Generation 117: Population = 100 (55 males, 45 females)\n",
            " Fitness: avg = 71.29, std = 1.97\n",
            "Generation 118: Population = 100 (48 males, 52 females)\n",
            " Fitness: avg = 72.01, std = 3.53\n",
            "Generation 119: Population = 100 (47 males, 53 females)\n",
            " Fitness: avg = 74.04, std = 5.20\n",
            "Generation 120: Population = 100 (53 males, 47 females)\n",
            " Fitness: avg = 80.03, std = 4.55\n",
            "Generation 121: Population = 100 (58 males, 42 females)\n",
            " Fitness: avg = 85.34, std = 2.72\n",
            "Generation 122: Population = 100 (50 males, 50 females)\n",
            " Fitness: avg = 87.64, std = 2.40\n",
            "Generation 123: Population = 100 (53 males, 47 females)\n",
            " Fitness: avg = 89.93, std = 2.56\n",
            "Generation 124: Population = 100 (43 males, 57 females)\n",
            " Fitness: avg = 91.74, std = 3.08\n",
            "Generation 125: Population = 100 (44 males, 56 females)\n",
            " Fitness: avg = 94.83, std = 2.63\n",
            "Generation 126: Population = 100 (53 males, 47 females)\n",
            " Fitness: avg = 97.71, std = 1.44\n",
            "Generation 127: Population = 100 (48 males, 52 females)\n",
            " Fitness: avg = 99.22, std = 0.63\n",
            "Generation 128: Population = 100 (50 males, 50 females)\n",
            " Fitness: avg = 100.07, std = 1.31\n"
          ]
        }
      ]
    },
    {
      "cell_type": "code",
      "source": [
        "fig2, ax3 = plt.subplots()\n",
        "\n",
        "ax3.plot(iter_vector, avg_vector, 'b-', label='Average smartness')\n",
        "ax3.fill_between(iter_vector, y1 = min_vector, y2 = max_vector, alpha = 0.25)\n",
        "ax3.set_xlabel('Generation')\n",
        "ax3.set_ylabel('Fitness', color='b')\n",
        "ax3.tick_params('y', colors='b')\n",
        "plt.axhline(y=TARGET, color='g', linestyle='--', label='Target')\n",
        "plt.legend(loc='upper left')\n",
        "ax3.set_ylim(bottom=0)\n",
        "\n",
        "ax4 = ax3.twinx()\n",
        "\n",
        "ax4.plot(iter_vector, std_vector, 'r--', linewidth=0.5, label='Data 2')\n",
        "ax4.set_ylabel('Standard deviation', color='r')\n",
        "ax4.tick_params('y', colors='r')\n",
        "ax4.set_ylim(bottom=0)\n",
        "\n",
        "ax3.grid(True)\n",
        "plt.show()\n"
      ],
      "metadata": {
        "colab": {
          "base_uri": "https://localhost:8080/",
          "height": 449
        },
        "id": "I-Z_6BWBXW7z",
        "outputId": "0c645cc7-5b68-473c-a690-d08597135654"
      },
      "execution_count": 13,
      "outputs": [
        {
          "output_type": "display_data",
          "data": {
            "text/plain": [
              "<Figure size 640x480 with 2 Axes>"
            ],
            "image/png": "[encoded data removed]"
          },
          "metadata": {}
        }
      ]
    }
  ]
}