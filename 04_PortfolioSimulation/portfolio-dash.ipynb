{
 "cells": [
  {
   "cell_type": "code",
   "execution_count": 1,
   "metadata": {},
   "outputs": [],
   "source": [
    "import numpy as np\n",
    "import pandas as pd\n",
    "import datetime as dt\n",
    "\n",
    "import matplotlib.pyplot as plt\n",
    "import plotly.express as px\n",
    "\n",
    "import yfinance as yf\n"
   ]
  },
  {
   "cell_type": "code",
   "execution_count": 2,
   "metadata": {},
   "outputs": [],
   "source": [
    "pd.set_option('display.precision',4)"
   ]
  },
  {
   "cell_type": "code",
   "execution_count": null,
   "metadata": {},
   "outputs": [],
   "source": [
    "def generate_portfolios(returns, numPortfolios, riskFreeRate=0, shortSelling=False):\n",
    "    tickers = returns.columns\n",
    "    nAssets = len(tickers)\n",
    "    mean_returns = returns.mean() * 252\n",
    "    cov_matrix = returns.cov() * 252\n",
    "\n",
    "\n",
    "    # Create an empty DataFrame to store the results\n",
    "    portfolios = pd.DataFrame(columns=[ticker+' weight' for ticker in tickers] + ['Return', 'Risk', 'Sharpe Ratio'], index=range(numPortfolios), dtype=float)\n",
    "\n",
    "    # Generate random weights and calculate the expected return, volatility and Sharpe ratio\n",
    "    for i in range(numPortfolios):\n",
    "        weights = np.random.random(nAssets)\n",
    "        weights /= np.sum(weights)\n",
    "        portfolios.loc[i, [ticker+' weight' for ticker in tickers]] = weights\n",
    "\n",
    "        # Calculate the expected return\n",
    "        portfolios.loc[i, 'Return'] = np.dot(weights, mean_returns)\n",
    "\n",
    "        # Calculate the expected volatility\n",
    "        portfolios.loc[i, 'Risk'] = np.sqrt(np.dot(weights.T, np.dot(cov_matrix, weights)))\n",
    "\n",
    "    # Calculate the Sharpe ratio\n",
    "    portfolios['Sharpe Ratio'] = (portfolios['Return'] - riskFreeRate) / portfolios['Risk']\n",
    "\n",
    "    return portfolios\n",
    "    "
   ]
  },
  {
   "cell_type": "code",
   "execution_count": 3,
   "metadata": {},
   "outputs": [
    {
     "data": {
      "text/html": [
       "<div>\n",
       "<style scoped>\n",
       "    .dataframe tbody tr th:only-of-type {\n",
       "        vertical-align: middle;\n",
       "    }\n",
       "\n",
       "    .dataframe tbody tr th {\n",
       "        vertical-align: top;\n",
       "    }\n",
       "\n",
       "    .dataframe thead th {\n",
       "        text-align: right;\n",
       "    }\n",
       "</style>\n",
       "<table border=\"1\" class=\"dataframe\">\n",
       "  <thead>\n",
       "    <tr style=\"text-align: right;\">\n",
       "      <th></th>\n",
       "      <th>Company</th>\n",
       "      <th>Ticker</th>\n",
       "      <th>ISIN</th>\n",
       "      <th>ICB Sector</th>\n",
       "    </tr>\n",
       "  </thead>\n",
       "  <tbody>\n",
       "    <tr>\n",
       "      <th>0</th>\n",
       "      <td>A2A</td>\n",
       "      <td>A2A.MI</td>\n",
       "      <td>IT0001233417</td>\n",
       "      <td>Electricity</td>\n",
       "    </tr>\n",
       "    <tr>\n",
       "      <th>1</th>\n",
       "      <td>Amplifon</td>\n",
       "      <td>AMP.MI</td>\n",
       "      <td>IT0004056880</td>\n",
       "      <td>Health Care</td>\n",
       "    </tr>\n",
       "    <tr>\n",
       "      <th>2</th>\n",
       "      <td>Azimut</td>\n",
       "      <td>AZM.MI</td>\n",
       "      <td>IT0003261697</td>\n",
       "      <td>Financial Services</td>\n",
       "    </tr>\n",
       "    <tr>\n",
       "      <th>3</th>\n",
       "      <td>Banca Generali</td>\n",
       "      <td>BGN.MI</td>\n",
       "      <td>IT0001031084</td>\n",
       "      <td>Financial Services</td>\n",
       "    </tr>\n",
       "    <tr>\n",
       "      <th>4</th>\n",
       "      <td>Banca Mediolanum</td>\n",
       "      <td>BMED.MI</td>\n",
       "      <td>IT0004776628</td>\n",
       "      <td>Financial Services</td>\n",
       "    </tr>\n",
       "    <tr>\n",
       "      <th>5</th>\n",
       "      <td>Banco BPM</td>\n",
       "      <td>BAMI.MI</td>\n",
       "      <td>IT0005218380</td>\n",
       "      <td>Banks</td>\n",
       "    </tr>\n",
       "    <tr>\n",
       "      <th>6</th>\n",
       "      <td>BPER Banca</td>\n",
       "      <td>BPE.MI</td>\n",
       "      <td>IT0000066123</td>\n",
       "      <td>Banks</td>\n",
       "    </tr>\n",
       "    <tr>\n",
       "      <th>7</th>\n",
       "      <td>Buzzi Unicem</td>\n",
       "      <td>BZU.MI</td>\n",
       "      <td>IT0001347308</td>\n",
       "      <td>Industrials</td>\n",
       "    </tr>\n",
       "    <tr>\n",
       "      <th>8</th>\n",
       "      <td>Campari</td>\n",
       "      <td>CPR.MI</td>\n",
       "      <td>IT0003849244</td>\n",
       "      <td>Beverages</td>\n",
       "    </tr>\n",
       "    <tr>\n",
       "      <th>9</th>\n",
       "      <td>CNH Industrial N.V.</td>\n",
       "      <td>CNHI.MI</td>\n",
       "      <td>NL0010545661</td>\n",
       "      <td>Industrial Goods And Services</td>\n",
       "    </tr>\n",
       "    <tr>\n",
       "      <th>10</th>\n",
       "      <td>Diasorin</td>\n",
       "      <td>DIA.MI</td>\n",
       "      <td>IT0003492391</td>\n",
       "      <td>Health Care</td>\n",
       "    </tr>\n",
       "    <tr>\n",
       "      <th>11</th>\n",
       "      <td>Enel</td>\n",
       "      <td>ENEL.MI</td>\n",
       "      <td>IT0003128367</td>\n",
       "      <td>Electricity</td>\n",
       "    </tr>\n",
       "    <tr>\n",
       "      <th>12</th>\n",
       "      <td>Eni</td>\n",
       "      <td>ENI.MI</td>\n",
       "      <td>IT0003132476</td>\n",
       "      <td>Oil &amp; Gas Producers</td>\n",
       "    </tr>\n",
       "    <tr>\n",
       "      <th>13</th>\n",
       "      <td>Erg</td>\n",
       "      <td>ERG.MI</td>\n",
       "      <td>IT0001157020</td>\n",
       "      <td>Utilities</td>\n",
       "    </tr>\n",
       "    <tr>\n",
       "      <th>14</th>\n",
       "      <td>Ferrari</td>\n",
       "      <td>RACE.MI</td>\n",
       "      <td>NL0011509302</td>\n",
       "      <td>Automobiles &amp; Parts</td>\n",
       "    </tr>\n",
       "    <tr>\n",
       "      <th>15</th>\n",
       "      <td>FinecoBank</td>\n",
       "      <td>FBK.MI</td>\n",
       "      <td>IT0000072170</td>\n",
       "      <td>Banks</td>\n",
       "    </tr>\n",
       "    <tr>\n",
       "      <th>16</th>\n",
       "      <td>Generali</td>\n",
       "      <td>G.MI</td>\n",
       "      <td>IT0000062072</td>\n",
       "      <td>Nonlife Insurance</td>\n",
       "    </tr>\n",
       "    <tr>\n",
       "      <th>17</th>\n",
       "      <td>Hera</td>\n",
       "      <td>HER.MI</td>\n",
       "      <td>IT0001250932</td>\n",
       "      <td>Utilities</td>\n",
       "    </tr>\n",
       "    <tr>\n",
       "      <th>18</th>\n",
       "      <td>Interpump Group</td>\n",
       "      <td>IP.MI</td>\n",
       "      <td>IT0001078911</td>\n",
       "      <td>Industrials</td>\n",
       "    </tr>\n",
       "    <tr>\n",
       "      <th>19</th>\n",
       "      <td>Intesa Sanpaolo</td>\n",
       "      <td>ISP.MI</td>\n",
       "      <td>IT0000072618</td>\n",
       "      <td>Banks</td>\n",
       "    </tr>\n",
       "    <tr>\n",
       "      <th>20</th>\n",
       "      <td>INWIT</td>\n",
       "      <td>INW.MI</td>\n",
       "      <td>IT0005090300</td>\n",
       "      <td>Communication Services</td>\n",
       "    </tr>\n",
       "    <tr>\n",
       "      <th>21</th>\n",
       "      <td>Italgas</td>\n",
       "      <td>IG.MI</td>\n",
       "      <td>IT0005211237</td>\n",
       "      <td>Utilities</td>\n",
       "    </tr>\n",
       "    <tr>\n",
       "      <th>22</th>\n",
       "      <td>Iveco Group</td>\n",
       "      <td>IVG.MI</td>\n",
       "      <td>NL0015000LU4</td>\n",
       "      <td>Industrial Goods And Services</td>\n",
       "    </tr>\n",
       "    <tr>\n",
       "      <th>23</th>\n",
       "      <td>Leonardo</td>\n",
       "      <td>LDO.MI</td>\n",
       "      <td>IT0003856405</td>\n",
       "      <td>Aerospace &amp; Defense</td>\n",
       "    </tr>\n",
       "    <tr>\n",
       "      <th>24</th>\n",
       "      <td>Mediobanca</td>\n",
       "      <td>MB.MI</td>\n",
       "      <td>IT0000062957</td>\n",
       "      <td>Banks</td>\n",
       "    </tr>\n",
       "    <tr>\n",
       "      <th>25</th>\n",
       "      <td>Moncler</td>\n",
       "      <td>MONC.MI</td>\n",
       "      <td>IT0004965148</td>\n",
       "      <td>Personal Goods</td>\n",
       "    </tr>\n",
       "    <tr>\n",
       "      <th>26</th>\n",
       "      <td>Nexi</td>\n",
       "      <td>NEXI.MI</td>\n",
       "      <td>IT0005366767</td>\n",
       "      <td>Payments</td>\n",
       "    </tr>\n",
       "    <tr>\n",
       "      <th>27</th>\n",
       "      <td>Pirelli</td>\n",
       "      <td>PIRC.MI</td>\n",
       "      <td>IT0005278236</td>\n",
       "      <td>Automobiles &amp; Parts</td>\n",
       "    </tr>\n",
       "    <tr>\n",
       "      <th>28</th>\n",
       "      <td>Poste italiane</td>\n",
       "      <td>PST.MI</td>\n",
       "      <td>IT0003796171</td>\n",
       "      <td>Nonlife Insurance</td>\n",
       "    </tr>\n",
       "    <tr>\n",
       "      <th>29</th>\n",
       "      <td>Prysmian</td>\n",
       "      <td>PRY.MI</td>\n",
       "      <td>IT0004176001</td>\n",
       "      <td>Electronic &amp; Electrical Equipment</td>\n",
       "    </tr>\n",
       "    <tr>\n",
       "      <th>30</th>\n",
       "      <td>Recordati</td>\n",
       "      <td>REC.MI</td>\n",
       "      <td>IT0003828271</td>\n",
       "      <td>Pharmaceuticals &amp; Biotechnology</td>\n",
       "    </tr>\n",
       "    <tr>\n",
       "      <th>31</th>\n",
       "      <td>Saipem</td>\n",
       "      <td>SPM.MI</td>\n",
       "      <td>IT0000068525</td>\n",
       "      <td>Oil Equipment Services &amp; Distribution</td>\n",
       "    </tr>\n",
       "    <tr>\n",
       "      <th>32</th>\n",
       "      <td>Snam</td>\n",
       "      <td>SRG.MI</td>\n",
       "      <td>IT0003153415</td>\n",
       "      <td>Gas Water &amp; Multiutilities</td>\n",
       "    </tr>\n",
       "    <tr>\n",
       "      <th>33</th>\n",
       "      <td>Stellantis</td>\n",
       "      <td>STLAM.MI</td>\n",
       "      <td>NL00150001Q9</td>\n",
       "      <td>Automobiles &amp; Parts</td>\n",
       "    </tr>\n",
       "    <tr>\n",
       "      <th>34</th>\n",
       "      <td>STMicroelectronics</td>\n",
       "      <td>STMMI.MI</td>\n",
       "      <td>NL0000226223</td>\n",
       "      <td>Technology Hardware &amp; Equipment</td>\n",
       "    </tr>\n",
       "    <tr>\n",
       "      <th>35</th>\n",
       "      <td>Telecom Italia</td>\n",
       "      <td>TIT.MI</td>\n",
       "      <td>IT0003497168</td>\n",
       "      <td>Telecommunications</td>\n",
       "    </tr>\n",
       "    <tr>\n",
       "      <th>36</th>\n",
       "      <td>Tenaris</td>\n",
       "      <td>TEN.MI</td>\n",
       "      <td>LU0156801721</td>\n",
       "      <td>Industrial Metals &amp; Mining</td>\n",
       "    </tr>\n",
       "    <tr>\n",
       "      <th>37</th>\n",
       "      <td>Terna</td>\n",
       "      <td>TRN.MI</td>\n",
       "      <td>IT0003242622</td>\n",
       "      <td>Electricity</td>\n",
       "    </tr>\n",
       "    <tr>\n",
       "      <th>38</th>\n",
       "      <td>UniCredit</td>\n",
       "      <td>UCG.MI</td>\n",
       "      <td>IT0004781412</td>\n",
       "      <td>Banks</td>\n",
       "    </tr>\n",
       "    <tr>\n",
       "      <th>39</th>\n",
       "      <td>Unipol</td>\n",
       "      <td>UNI.MI</td>\n",
       "      <td>IT0004810054</td>\n",
       "      <td>Nonlife Insurance</td>\n",
       "    </tr>\n",
       "  </tbody>\n",
       "</table>\n",
       "</div>"
      ],
      "text/plain": [
       "                Company    Ticker          ISIN  \\\n",
       "0                   A2A    A2A.MI  IT0001233417   \n",
       "1              Amplifon    AMP.MI  IT0004056880   \n",
       "2                Azimut    AZM.MI  IT0003261697   \n",
       "3        Banca Generali    BGN.MI  IT0001031084   \n",
       "4      Banca Mediolanum   BMED.MI  IT0004776628   \n",
       "5             Banco BPM   BAMI.MI  IT0005218380   \n",
       "6            BPER Banca    BPE.MI  IT0000066123   \n",
       "7          Buzzi Unicem    BZU.MI  IT0001347308   \n",
       "8               Campari    CPR.MI  IT0003849244   \n",
       "9   CNH Industrial N.V.   CNHI.MI  NL0010545661   \n",
       "10             Diasorin    DIA.MI  IT0003492391   \n",
       "11                 Enel   ENEL.MI  IT0003128367   \n",
       "12                  Eni    ENI.MI  IT0003132476   \n",
       "13                  Erg    ERG.MI  IT0001157020   \n",
       "14              Ferrari   RACE.MI  NL0011509302   \n",
       "15           FinecoBank    FBK.MI  IT0000072170   \n",
       "16             Generali      G.MI  IT0000062072   \n",
       "17                 Hera    HER.MI  IT0001250932   \n",
       "18      Interpump Group     IP.MI  IT0001078911   \n",
       "19      Intesa Sanpaolo    ISP.MI  IT0000072618   \n",
       "20                INWIT    INW.MI  IT0005090300   \n",
       "21              Italgas     IG.MI  IT0005211237   \n",
       "22          Iveco Group    IVG.MI  NL0015000LU4   \n",
       "23             Leonardo    LDO.MI  IT0003856405   \n",
       "24           Mediobanca     MB.MI  IT0000062957   \n",
       "25              Moncler   MONC.MI  IT0004965148   \n",
       "26                 Nexi   NEXI.MI  IT0005366767   \n",
       "27              Pirelli   PIRC.MI  IT0005278236   \n",
       "28       Poste italiane    PST.MI  IT0003796171   \n",
       "29             Prysmian    PRY.MI  IT0004176001   \n",
       "30            Recordati    REC.MI  IT0003828271   \n",
       "31               Saipem    SPM.MI  IT0000068525   \n",
       "32                 Snam    SRG.MI  IT0003153415   \n",
       "33           Stellantis  STLAM.MI  NL00150001Q9   \n",
       "34   STMicroelectronics  STMMI.MI  NL0000226223   \n",
       "35       Telecom Italia    TIT.MI  IT0003497168   \n",
       "36              Tenaris    TEN.MI  LU0156801721   \n",
       "37                Terna    TRN.MI  IT0003242622   \n",
       "38            UniCredit    UCG.MI  IT0004781412   \n",
       "39               Unipol    UNI.MI  IT0004810054   \n",
       "\n",
       "                               ICB Sector  \n",
       "0                             Electricity  \n",
       "1                             Health Care  \n",
       "2                      Financial Services  \n",
       "3                      Financial Services  \n",
       "4                      Financial Services  \n",
       "5                                   Banks  \n",
       "6                                   Banks  \n",
       "7                             Industrials  \n",
       "8                               Beverages  \n",
       "9           Industrial Goods And Services  \n",
       "10                            Health Care  \n",
       "11                            Electricity  \n",
       "12                    Oil & Gas Producers  \n",
       "13                              Utilities  \n",
       "14                    Automobiles & Parts  \n",
       "15                                  Banks  \n",
       "16                      Nonlife Insurance  \n",
       "17                              Utilities  \n",
       "18                            Industrials  \n",
       "19                                  Banks  \n",
       "20                 Communication Services  \n",
       "21                              Utilities  \n",
       "22          Industrial Goods And Services  \n",
       "23                    Aerospace & Defense  \n",
       "24                                  Banks  \n",
       "25                         Personal Goods  \n",
       "26                               Payments  \n",
       "27                    Automobiles & Parts  \n",
       "28                      Nonlife Insurance  \n",
       "29      Electronic & Electrical Equipment  \n",
       "30        Pharmaceuticals & Biotechnology  \n",
       "31  Oil Equipment Services & Distribution  \n",
       "32             Gas Water & Multiutilities  \n",
       "33                    Automobiles & Parts  \n",
       "34        Technology Hardware & Equipment  \n",
       "35                     Telecommunications  \n",
       "36             Industrial Metals & Mining  \n",
       "37                            Electricity  \n",
       "38                                  Banks  \n",
       "39                      Nonlife Insurance  "
      ]
     },
     "execution_count": 3,
     "metadata": {},
     "output_type": "execute_result"
    }
   ],
   "source": [
    "# Get a list of symbols from FTSEMIB index\n",
    "ftsemib = pd.read_html('https://en.wikipedia.org/wiki/FTSE_MIB')[1]\n",
    "ftsemib['ICB Sector'] = ftsemib['ICB Sector'].str.extract(r'\\((.*?)\\)', expand=False).fillna(ftsemib['ICB Sector'])\n",
    "\n",
    "ftsemib"
   ]
  },
  {
   "cell_type": "code",
   "execution_count": null,
   "metadata": {},
   "outputs": [
    {
     "data": {
      "text/html": [
       "\n",
       "        <iframe\n",
       "            width=\"100%\"\n",
       "            height=\"650\"\n",
       "            src=\"http://127.0.0.1:8050/\"\n",
       "            frameborder=\"0\"\n",
       "            allowfullscreen\n",
       "            \n",
       "        ></iframe>\n",
       "        "
      ],
      "text/plain": [
       "<IPython.lib.display.IFrame at 0x12e43b150>"
      ]
     },
     "metadata": {},
     "output_type": "display_data"
    },
    {
     "name": "stdout",
     "output_type": "stream",
     "text": [
      "[*********************100%***********************]  1 of 1 completed\n",
      "[*********************100%***********************]  2 of 2 completed\n",
      "[*********************100%***********************]  1 of 1 completed\n",
      "[*********************100%***********************]  2 of 2 completed\n",
      "[*********************100%***********************]  3 of 3 completed\n",
      "[*********************100%***********************]  1 of 1 completed\n",
      "[*********************100%***********************]  2 of 2 completed\n"
     ]
    }
   ],
   "source": [
    "from dash import html, dcc, Input, Output, Dash\n",
    "import dash_bootstrap_components as dbc\n",
    "from dash_bootstrap_templates import load_figure_template\n",
    "import plotly.express as px\n",
    "import plotly.graph_objects as go\n",
    "from dash.exceptions import PreventUpdate\n",
    "import json\n",
    "\n",
    "dbc_css = \"https://cdn.jsdelivr.net/gh/AnnMarieW/dash-bootstrap-templates/dbc.min.css\"\n",
    "load_figure_template(\"CERULEAN\")\n",
    "\n",
    "app = Dash(__name__, external_stylesheets=[dbc.themes.CERULEAN, dbc_css])\n",
    "\n",
    "app.layout = html.Div([\n",
    "    dcc.Store(id='store-returns'),\n",
    "    dcc.Tabs(\n",
    "        id='tabs',\n",
    "        value='tab-1',\n",
    "        className='dbc',\n",
    "        children=[\n",
    "            dcc.Tab(\n",
    "                label='Asset selection',\n",
    "                id='tab-1',\n",
    "                className='dbc',\n",
    "                children=[\n",
    "                    dbc.Row([\n",
    "                        dbc.Col(\n",
    "                            width=3,\n",
    "                            children=dbc.Card([\n",
    "                                dcc.Dropdown(\n",
    "                                    id='ticker-dropdown',\n",
    "                                    options=[\n",
    "                                        {'label': f\"{row['Company']} ({row['Ticker']})\", 'value': row['Ticker']}\n",
    "                                        for _, row in ftsemib.iterrows()\n",
    "                                    ],\n",
    "                                    multi=True,\n",
    "                                    className='dbc'\n",
    "                                ),\n",
    "                                dcc.DatePickerRange(\n",
    "                                    id='date-picker',\n",
    "                                    min_date_allowed=dt.date(2010, 1, 1),\n",
    "                                    max_date_allowed=dt.date.today(),\n",
    "                                    initial_visible_month=dt.date.today(),\n",
    "                                    start_date=dt.date(2010, 1, 1),\n",
    "                                    end_date=dt.date.today(),\n",
    "                                    className='dbc'\n",
    "                                ),\n",
    "                            ])\n",
    "                        ),\n",
    "                        \n",
    "                        dbc.Col(\n",
    "                            dbc.Card(\n",
    "                                dcc.Graph(id='markowitz-graph')\n",
    "                            ),\n",
    "                        )\n",
    "                    ])\n",
    "                ]\n",
    "            ),\n",
    "            dcc.Tab(\n",
    "                id='tab-2',\n",
    "                label='Monte Carlo Allocation',\n",
    "                children=[\n",
    "                    dbc.Row([\n",
    "                        dbc.Col(width=2,\n",
    "                            children=[\n",
    "                                html.Button('Generate',\n",
    "                                id='generate-button',\n",
    "                                n_clicks=0,\n",
    "                                className='dbc')\n",
    "                        ]),\n",
    "                        dbc.Col([\n",
    "                            dcc.Graph(id='mc-portfolios', \n",
    "                                      clear_on_unhover=True\n",
    "                                      )\n",
    "                        ], width=5),\n",
    "                        dbc.Col([\n",
    "                            dcc.Graph(id='portfolio-value',\n",
    "                                    )\n",
    "                        ], width=5),\n",
    "                    ])\n",
    "                ]\n",
    "            ),\n",
    "            dcc.Tab(\n",
    "                id='tab-3',\n",
    "                label='Tab 3',\n",
    "                children=[\n",
    "                    html.Div('Content tab 3')\n",
    "                ]\n",
    "            ),\n",
    "        ]\n",
    "    ),\n",
    "])\n",
    "\n",
    "@app.callback(\n",
    "    [Output('markowitz-graph', 'figure'),\n",
    "    Output('mc-portfolios', 'figure'),\n",
    "    Output('store-returns', 'data')],\n",
    "    [Input('ticker-dropdown', 'value'),\n",
    "    Input('date-picker', 'start_date'),\n",
    "    Input('date-picker', 'end_date')]\n",
    ")\n",
    "def select_assets(tickers, start_date, end_date):\n",
    "    if not tickers:\n",
    "        fig = go.Figure().update_xaxes(title='Risk', range=[0, 0.5]).update_yaxes(title='Return', range=[0, 0.4]).update_layout(transition_duration=500)\n",
    "        returns = pd.DataFrame()\n",
    "        return fig, fig, returns.to_json()\n",
    "\n",
    "    start_date = dt.datetime.strptime(start_date, '%Y-%m-%d')\n",
    "    end_date = dt.datetime.strptime(end_date, '%Y-%m-%d')\n",
    "    \n",
    "    try:\n",
    "        data = yf.download(tickers, start=start_date, end=end_date, )['Adj Close']\n",
    "    except Exception as e:\n",
    "        raise PreventUpdate\n",
    "\n",
    "    returns = data.pct_change().dropna()\n",
    "    tickers_df = pd.DataFrame({'Return': returns.mean()*252, 'Risk': returns.std()*np.sqrt(252)}, index=tickers).rename_axis('Ticker')\n",
    "\n",
    "    fig = px.scatter(tickers_df, x='Risk', y='Return', text=tickers_df.index)\n",
    "    fig.update_traces(textposition='top center').update_layout(transition_duration=500)\n",
    "\n",
    "    return fig, fig, returns.to_json()\n",
    "\n",
    "@app.callback(\n",
    "    [Output('mc-portfolios', 'figure', allow_duplicate=True),\n",
    "    Output('generate-button', 'n_clicks')],\n",
    "    [Input('store-returns', 'data'),\n",
    "    Input('generate-button', 'n_clicks')\n",
    "    ],\n",
    "    prevent_initial_call=True\n",
    ")\n",
    "def mc_allocation(returns, n_clicks):\n",
    "    if not n_clicks:\n",
    "        raise PreventUpdate\n",
    "\n",
    "    returns = pd.read_json(returns)\n",
    "    if returns.empty:\n",
    "        fig = go.Figure().update_layout(transition_duration=500)\n",
    "        n_clicks = None\n",
    "        return fig, n_clicks\n",
    "\n",
    "    n_portfolios = 1000\n",
    "    mc_portfolios = generate_portfolios(returns, 1000)\n",
    "    fig = px.scatter(portfolios, x='Risk', y='Return', color='Sharpe Ratio', hover_data={**{ticker +' weight': ':.2f' for ticker in tickers}, **{'Return': ':.2f', 'Risk': ':.2f', 'Sharpe Ratio': ':.2f'}}, opacity=0.5, )\n",
    "\n",
    "    n_clicks = None\n",
    "\n",
    "    return fig, n_clicks\n",
    "\n",
    "\n",
    "\n",
    "app.run_server(debug=True, )"
   ]
  },
  {
   "cell_type": "markdown",
   "metadata": {},
   "source": [
    "## Get list of assets"
   ]
  },
  {
   "cell_type": "code",
   "execution_count": 5,
   "metadata": {},
   "outputs": [],
   "source": [
    "tickers = ['ENI.MI', 'ENEL.MI', 'STMMI.MI', 'LDO.MI', 'A2A.MI',]\n",
    "# Sort the tickers\n",
    "tickers.sort()\n"
   ]
  },
  {
   "cell_type": "code",
   "execution_count": 6,
   "metadata": {},
   "outputs": [
    {
     "name": "stdout",
     "output_type": "stream",
     "text": [
      "[*********************100%***********************]  5 of 5 completed\n"
     ]
    },
    {
     "data": {
      "text/html": [
       "<div>\n",
       "<style scoped>\n",
       "    .dataframe tbody tr th:only-of-type {\n",
       "        vertical-align: middle;\n",
       "    }\n",
       "\n",
       "    .dataframe tbody tr th {\n",
       "        vertical-align: top;\n",
       "    }\n",
       "\n",
       "    .dataframe thead th {\n",
       "        text-align: right;\n",
       "    }\n",
       "</style>\n",
       "<table border=\"1\" class=\"dataframe\">\n",
       "  <thead>\n",
       "    <tr style=\"text-align: right;\">\n",
       "      <th></th>\n",
       "      <th>A2A.MI</th>\n",
       "      <th>ENEL.MI</th>\n",
       "      <th>ENI.MI</th>\n",
       "      <th>LDO.MI</th>\n",
       "      <th>STMMI.MI</th>\n",
       "    </tr>\n",
       "    <tr>\n",
       "      <th>Date</th>\n",
       "      <th></th>\n",
       "      <th></th>\n",
       "      <th></th>\n",
       "      <th></th>\n",
       "      <th></th>\n",
       "    </tr>\n",
       "  </thead>\n",
       "  <tbody>\n",
       "    <tr>\n",
       "      <th>2024-02-19</th>\n",
       "      <td>1.6770</td>\n",
       "      <td>5.861</td>\n",
       "      <td>14.170</td>\n",
       "      <td>19.19</td>\n",
       "      <td>41.725</td>\n",
       "    </tr>\n",
       "    <tr>\n",
       "      <th>2024-02-20</th>\n",
       "      <td>1.7015</td>\n",
       "      <td>5.903</td>\n",
       "      <td>14.132</td>\n",
       "      <td>19.15</td>\n",
       "      <td>40.935</td>\n",
       "    </tr>\n",
       "    <tr>\n",
       "      <th>2024-02-21</th>\n",
       "      <td>1.7025</td>\n",
       "      <td>5.957</td>\n",
       "      <td>14.302</td>\n",
       "      <td>19.03</td>\n",
       "      <td>40.980</td>\n",
       "    </tr>\n",
       "    <tr>\n",
       "      <th>2024-02-22</th>\n",
       "      <td>1.6910</td>\n",
       "      <td>5.933</td>\n",
       "      <td>14.230</td>\n",
       "      <td>19.08</td>\n",
       "      <td>42.240</td>\n",
       "    </tr>\n",
       "    <tr>\n",
       "      <th>2024-02-23</th>\n",
       "      <td>1.6885</td>\n",
       "      <td>5.958</td>\n",
       "      <td>14.256</td>\n",
       "      <td>19.00</td>\n",
       "      <td>41.530</td>\n",
       "    </tr>\n",
       "  </tbody>\n",
       "</table>\n",
       "</div>"
      ],
      "text/plain": [
       "            A2A.MI  ENEL.MI  ENI.MI  LDO.MI  STMMI.MI\n",
       "Date                                                 \n",
       "2024-02-19  1.6770    5.861  14.170   19.19    41.725\n",
       "2024-02-20  1.7015    5.903  14.132   19.15    40.935\n",
       "2024-02-21  1.7025    5.957  14.302   19.03    40.980\n",
       "2024-02-22  1.6910    5.933  14.230   19.08    42.240\n",
       "2024-02-23  1.6885    5.958  14.256   19.00    41.530"
      ]
     },
     "execution_count": 6,
     "metadata": {},
     "output_type": "execute_result"
    }
   ],
   "source": [
    "\n",
    "start = dt.date(2013, 1, 1)\n",
    "end = dt.date.today()\n",
    "\n",
    "data = yf.download(tickers, start=start, end=end)['Adj Close']\n",
    "data.tail()"
   ]
  },
  {
   "cell_type": "code",
   "execution_count": 7,
   "metadata": {},
   "outputs": [],
   "source": [
    "# Split the data into in-sample and out-of-sample\n",
    "sample_end = dt.date(2022, 12, 31)\n",
    "inSample_data = data.loc[:sample_end]\n",
    "outOfSample_data = data.loc[sample_end:]"
   ]
  },
  {
   "cell_type": "code",
   "execution_count": 9,
   "metadata": {},
   "outputs": [
    {
     "data": {
      "text/html": [
       "<div>\n",
       "<style scoped>\n",
       "    .dataframe tbody tr th:only-of-type {\n",
       "        vertical-align: middle;\n",
       "    }\n",
       "\n",
       "    .dataframe tbody tr th {\n",
       "        vertical-align: top;\n",
       "    }\n",
       "\n",
       "    .dataframe thead th {\n",
       "        text-align: right;\n",
       "    }\n",
       "</style>\n",
       "<table border=\"1\" class=\"dataframe\">\n",
       "  <thead>\n",
       "    <tr style=\"text-align: right;\">\n",
       "      <th></th>\n",
       "      <th>Return</th>\n",
       "      <th>Risk</th>\n",
       "    </tr>\n",
       "    <tr>\n",
       "      <th>Ticker</th>\n",
       "      <th></th>\n",
       "      <th></th>\n",
       "    </tr>\n",
       "  </thead>\n",
       "  <tbody>\n",
       "    <tr>\n",
       "      <th>A2A.MI</th>\n",
       "      <td>0.1807</td>\n",
       "      <td>0.2796</td>\n",
       "    </tr>\n",
       "    <tr>\n",
       "      <th>ENEL.MI</th>\n",
       "      <td>0.1224</td>\n",
       "      <td>0.2608</td>\n",
       "    </tr>\n",
       "    <tr>\n",
       "      <th>ENI.MI</th>\n",
       "      <td>0.0639</td>\n",
       "      <td>0.2777</td>\n",
       "    </tr>\n",
       "    <tr>\n",
       "      <th>LDO.MI</th>\n",
       "      <td>0.1378</td>\n",
       "      <td>0.3795</td>\n",
       "    </tr>\n",
       "    <tr>\n",
       "      <th>STMMI.MI</th>\n",
       "      <td>0.2802</td>\n",
       "      <td>0.3853</td>\n",
       "    </tr>\n",
       "  </tbody>\n",
       "</table>\n",
       "</div>"
      ],
      "text/plain": [
       "          Return    Risk\n",
       "Ticker                  \n",
       "A2A.MI    0.1807  0.2796\n",
       "ENEL.MI   0.1224  0.2608\n",
       "ENI.MI    0.0639  0.2777\n",
       "LDO.MI    0.1378  0.3795\n",
       "STMMI.MI  0.2802  0.3853"
      ]
     },
     "execution_count": 9,
     "metadata": {},
     "output_type": "execute_result"
    }
   ],
   "source": [
    "# Get the daily returns\n",
    "returns = inSample_data.pct_change().dropna()\n",
    "\n",
    "# Collect drifts and standard deviations in the columns of a single DataFrame\n",
    "tickers_df = pd.DataFrame({'Return': returns.mean() * 252, 'Risk': np.sqrt(np.diag(returns.cov() * 252))}, index=tickers).rename_axis('Ticker')\n",
    "tickers_df"
   ]
  },
  {
   "cell_type": "markdown",
   "metadata": {},
   "source": [
    "Add minimum variance line too"
   ]
  },
  {
   "cell_type": "code",
   "execution_count": 10,
   "metadata": {},
   "outputs": [
    {
     "data": {
      "application/vnd.plotly.v1+json": {
       "config": {
        "plotlyServerURL": "https://plot.ly"
       },
       "data": [
        {
         "hovertemplate": "Risk=%{x}<br>Return=%{y}<br>Ticker=%{text}<extra></extra>",
         "legendgroup": "",
         "marker": {
          "color": "#53a3e7",
          "symbol": "circle"
         },
         "mode": "markers+text",
         "name": "",
         "orientation": "v",
         "showlegend": false,
         "text": [
          "A2A.MI",
          "ENEL.MI",
          "ENI.MI",
          "LDO.MI",
          "STMMI.MI"
         ],
         "textposition": "top center",
         "type": "scatter",
         "x": [
          0.2796453426104013,
          0.26076419639830517,
          0.27766384424280427,
          0.3794973080349928,
          0.3852558649530023
         ],
         "xaxis": "x",
         "y": [
          0.18070266011602718,
          0.1223564551776908,
          0.06388747612481145,
          0.13780367054163237,
          0.2801689795237449
         ],
         "yaxis": "y"
        }
       ],
       "layout": {
        "legend": {
         "tracegroupgap": 0
        },
        "margin": {
         "t": 60
        },
        "template": {
         "data": {
          "bar": [
           {
            "error_x": {
             "color": "#2a3f5f"
            },
            "error_y": {
             "color": "#2a3f5f"
            },
            "marker": {
             "line": {
              "color": "white",
              "width": 0.5
             },
             "pattern": {
              "fillmode": "overlay",
              "size": 10,
              "solidity": 0.2
             }
            },
            "type": "bar"
           }
          ],
          "barpolar": [
           {
            "marker": {
             "line": {
              "color": "white",
              "width": 0.5
             },
             "pattern": {
              "fillmode": "overlay",
              "size": 10,
              "solidity": 0.2
             }
            },
            "type": "barpolar"
           }
          ],
          "carpet": [
           {
            "aaxis": {
             "endlinecolor": "#2a3f5f",
             "gridcolor": "#C8D4E3",
             "linecolor": "#C8D4E3",
             "minorgridcolor": "#C8D4E3",
             "startlinecolor": "#2a3f5f"
            },
            "baxis": {
             "endlinecolor": "#2a3f5f",
             "gridcolor": "#C8D4E3",
             "linecolor": "#C8D4E3",
             "minorgridcolor": "#C8D4E3",
             "startlinecolor": "#2a3f5f"
            },
            "type": "carpet"
           }
          ],
          "choropleth": [
           {
            "colorbar": {
             "outlinewidth": 0,
             "ticks": ""
            },
            "type": "choropleth"
           }
          ],
          "contour": [
           {
            "colorbar": {
             "outlinewidth": 0,
             "ticks": ""
            },
            "colorscale": [
             [
              0,
              "#0d0887"
             ],
             [
              0.1111111111111111,
              "#46039f"
             ],
             [
              0.2222222222222222,
              "#7201a8"
             ],
             [
              0.3333333333333333,
              "#9c179e"
             ],
             [
              0.4444444444444444,
              "#bd3786"
             ],
             [
              0.5555555555555556,
              "#d8576b"
             ],
             [
              0.6666666666666666,
              "#ed7953"
             ],
             [
              0.7777777777777778,
              "#fb9f3a"
             ],
             [
              0.8888888888888888,
              "#fdca26"
             ],
             [
              1,
              "#f0f921"
             ]
            ],
            "type": "contour"
           }
          ],
          "contourcarpet": [
           {
            "colorbar": {
             "outlinewidth": 0,
             "ticks": ""
            },
            "type": "contourcarpet"
           }
          ],
          "heatmap": [
           {
            "colorbar": {
             "outlinewidth": 0,
             "ticks": ""
            },
            "colorscale": [
             [
              0,
              "#0d0887"
             ],
             [
              0.1111111111111111,
              "#46039f"
             ],
             [
              0.2222222222222222,
              "#7201a8"
             ],
             [
              0.3333333333333333,
              "#9c179e"
             ],
             [
              0.4444444444444444,
              "#bd3786"
             ],
             [
              0.5555555555555556,
              "#d8576b"
             ],
             [
              0.6666666666666666,
              "#ed7953"
             ],
             [
              0.7777777777777778,
              "#fb9f3a"
             ],
             [
              0.8888888888888888,
              "#fdca26"
             ],
             [
              1,
              "#f0f921"
             ]
            ],
            "type": "heatmap"
           }
          ],
          "heatmapgl": [
           {
            "colorbar": {
             "outlinewidth": 0,
             "ticks": ""
            },
            "colorscale": [
             [
              0,
              "#0d0887"
             ],
             [
              0.1111111111111111,
              "#46039f"
             ],
             [
              0.2222222222222222,
              "#7201a8"
             ],
             [
              0.3333333333333333,
              "#9c179e"
             ],
             [
              0.4444444444444444,
              "#bd3786"
             ],
             [
              0.5555555555555556,
              "#d8576b"
             ],
             [
              0.6666666666666666,
              "#ed7953"
             ],
             [
              0.7777777777777778,
              "#fb9f3a"
             ],
             [
              0.8888888888888888,
              "#fdca26"
             ],
             [
              1,
              "#f0f921"
             ]
            ],
            "type": "heatmapgl"
           }
          ],
          "histogram": [
           {
            "marker": {
             "pattern": {
              "fillmode": "overlay",
              "size": 10,
              "solidity": 0.2
             }
            },
            "type": "histogram"
           }
          ],
          "histogram2d": [
           {
            "colorbar": {
             "outlinewidth": 0,
             "ticks": ""
            },
            "colorscale": [
             [
              0,
              "#0d0887"
             ],
             [
              0.1111111111111111,
              "#46039f"
             ],
             [
              0.2222222222222222,
              "#7201a8"
             ],
             [
              0.3333333333333333,
              "#9c179e"
             ],
             [
              0.4444444444444444,
              "#bd3786"
             ],
             [
              0.5555555555555556,
              "#d8576b"
             ],
             [
              0.6666666666666666,
              "#ed7953"
             ],
             [
              0.7777777777777778,
              "#fb9f3a"
             ],
             [
              0.8888888888888888,
              "#fdca26"
             ],
             [
              1,
              "#f0f921"
             ]
            ],
            "type": "histogram2d"
           }
          ],
          "histogram2dcontour": [
           {
            "colorbar": {
             "outlinewidth": 0,
             "ticks": ""
            },
            "colorscale": [
             [
              0,
              "#0d0887"
             ],
             [
              0.1111111111111111,
              "#46039f"
             ],
             [
              0.2222222222222222,
              "#7201a8"
             ],
             [
              0.3333333333333333,
              "#9c179e"
             ],
             [
              0.4444444444444444,
              "#bd3786"
             ],
             [
              0.5555555555555556,
              "#d8576b"
             ],
             [
              0.6666666666666666,
              "#ed7953"
             ],
             [
              0.7777777777777778,
              "#fb9f3a"
             ],
             [
              0.8888888888888888,
              "#fdca26"
             ],
             [
              1,
              "#f0f921"
             ]
            ],
            "type": "histogram2dcontour"
           }
          ],
          "mesh3d": [
           {
            "colorbar": {
             "outlinewidth": 0,
             "ticks": ""
            },
            "type": "mesh3d"
           }
          ],
          "parcoords": [
           {
            "line": {
             "colorbar": {
              "outlinewidth": 0,
              "ticks": ""
             }
            },
            "type": "parcoords"
           }
          ],
          "pie": [
           {
            "automargin": true,
            "type": "pie"
           }
          ],
          "scatter": [
           {
            "marker": {
             "line": {
              "color": "#fff"
             }
            },
            "type": "scatter"
           }
          ],
          "scatter3d": [
           {
            "line": {
             "colorbar": {
              "outlinewidth": 0,
              "ticks": ""
             }
            },
            "marker": {
             "colorbar": {
              "outlinewidth": 0,
              "ticks": ""
             }
            },
            "type": "scatter3d"
           }
          ],
          "scattercarpet": [
           {
            "marker": {
             "colorbar": {
              "outlinewidth": 0,
              "ticks": ""
             }
            },
            "type": "scattercarpet"
           }
          ],
          "scattergeo": [
           {
            "marker": {
             "colorbar": {
              "outlinewidth": 0,
              "ticks": ""
             }
            },
            "type": "scattergeo"
           }
          ],
          "scattergl": [
           {
            "marker": {
             "line": {
              "color": "#fff"
             }
            },
            "type": "scattergl"
           }
          ],
          "scattermapbox": [
           {
            "marker": {
             "colorbar": {
              "outlinewidth": 0,
              "ticks": ""
             }
            },
            "type": "scattermapbox"
           }
          ],
          "scatterpolar": [
           {
            "marker": {
             "colorbar": {
              "outlinewidth": 0,
              "ticks": ""
             }
            },
            "type": "scatterpolar"
           }
          ],
          "scatterpolargl": [
           {
            "marker": {
             "colorbar": {
              "outlinewidth": 0,
              "ticks": ""
             }
            },
            "type": "scatterpolargl"
           }
          ],
          "scatterternary": [
           {
            "marker": {
             "colorbar": {
              "outlinewidth": 0,
              "ticks": ""
             }
            },
            "type": "scatterternary"
           }
          ],
          "surface": [
           {
            "colorbar": {
             "outlinewidth": 0,
             "ticks": ""
            },
            "colorscale": [
             [
              0,
              "#0d0887"
             ],
             [
              0.1111111111111111,
              "#46039f"
             ],
             [
              0.2222222222222222,
              "#7201a8"
             ],
             [
              0.3333333333333333,
              "#9c179e"
             ],
             [
              0.4444444444444444,
              "#bd3786"
             ],
             [
              0.5555555555555556,
              "#d8576b"
             ],
             [
              0.6666666666666666,
              "#ed7953"
             ],
             [
              0.7777777777777778,
              "#fb9f3a"
             ],
             [
              0.8888888888888888,
              "#fdca26"
             ],
             [
              1,
              "#f0f921"
             ]
            ],
            "type": "surface"
           }
          ],
          "table": [
           {
            "cells": {
             "fill": {
              "color": "#EBF0F8"
             },
             "line": {
              "color": "white"
             }
            },
            "header": {
             "fill": {
              "color": "#C8D4E3"
             },
             "line": {
              "color": "white"
             }
            },
            "type": "table"
           }
          ]
         },
         "layout": {
          "annotationdefaults": {
           "arrowcolor": "#2a3f5f",
           "arrowhead": 0,
           "arrowwidth": 1,
           "font": {
            "color": "#495057"
           }
          },
          "autotypenumbers": "strict",
          "coloraxis": {
           "colorbar": {
            "outlinewidth": 0,
            "ticks": ""
           }
          },
          "colorscale": {
           "diverging": [
            [
             0,
             "#8e0152"
            ],
            [
             0.1,
             "#c51b7d"
            ],
            [
             0.2,
             "#de77ae"
            ],
            [
             0.3,
             "#f1b6da"
            ],
            [
             0.4,
             "#fde0ef"
            ],
            [
             0.5,
             "#f7f7f7"
            ],
            [
             0.6,
             "#e6f5d0"
            ],
            [
             0.7,
             "#b8e186"
            ],
            [
             0.8,
             "#7fbc41"
            ],
            [
             0.9,
             "#4d9221"
            ],
            [
             1,
             "#276419"
            ]
           ],
           "sequential": [
            [
             0,
             "#2fa4e7"
            ],
            [
             0.1,
             "#449dd8"
            ],
            [
             0.2,
             "#5996c9"
            ],
            [
             0.30000000000000004,
             "#6f8fba"
            ],
            [
             0.4,
             "#8488ab"
            ],
            [
             0.5,
             "#99819c"
            ],
            [
             0.6000000000000001,
             "#ae7a8d"
            ],
            [
             0.7000000000000001,
             "#c3737e"
            ],
            [
             0.8,
             "#d96b6f"
            ],
            [
             0.9,
             "#ee6460"
            ],
            [
             1,
             "#ff5d51"
            ]
           ],
           "sequentialminus": [
            [
             0,
             "#0d0887"
            ],
            [
             0.1111111111111111,
             "#46039f"
            ],
            [
             0.2222222222222222,
             "#7201a8"
            ],
            [
             0.3333333333333333,
             "#9c179e"
            ],
            [
             0.4444444444444444,
             "#bd3786"
            ],
            [
             0.5555555555555556,
             "#d8576b"
            ],
            [
             0.6666666666666666,
             "#ed7953"
            ],
            [
             0.7777777777777778,
             "#fb9f3a"
            ],
            [
             0.8888888888888888,
             "#fdca26"
            ],
            [
             1,
             "#f0f921"
            ]
           ]
          },
          "colorway": [
           "#53a3e7",
           "#a70010",
           "#6aa936",
           "#ff8235",
           "#394e89"
          ],
          "font": {
           "color": "#495057",
           "family": "system-ui,-apple-system,\"Segoe UI\",Roboto,\"Helvetica Neue\",\"Noto Sans\",\"Liberation Sans\",Arial,sans-serif,\"Apple Color Emoji\",\"Segoe UI Emoji\",\"Segoe UI Symbol\",\"Noto Color Emoji\""
          },
          "geo": {
           "bgcolor": "#fff",
           "lakecolor": "#fff",
           "landcolor": "#fff",
           "showlakes": true,
           "showland": true,
           "subunitcolor": "#C8D4E3"
          },
          "hoverlabel": {
           "align": "left",
           "font": {
            "family": "system-ui,-apple-system,\"Segoe UI\",Roboto,\"Helvetica Neue\",\"Noto Sans\",\"Liberation Sans\",Arial,sans-serif,\"Apple Color Emoji\",\"Segoe UI Emoji\",\"Segoe UI Symbol\",\"Noto Color Emoji\""
           }
          },
          "hovermode": "closest",
          "mapbox": {
           "style": "light"
          },
          "paper_bgcolor": "#fff",
          "piecolorway": [
           "#53a3e7",
           "#a70010",
           "#6aa936",
           "#ff8235",
           "#394e89"
          ],
          "plot_bgcolor": "#fff",
          "polar": {
           "angularaxis": {
            "gridcolor": "#EBF0F8",
            "linecolor": "#EBF0F8",
            "ticks": ""
           },
           "bgcolor": "white",
           "radialaxis": {
            "gridcolor": "#EBF0F8",
            "linecolor": "#EBF0F8",
            "ticks": ""
           }
          },
          "scene": {
           "xaxis": {
            "backgroundcolor": "white",
            "gridcolor": "#DFE8F3",
            "gridwidth": 2,
            "linecolor": "#EBF0F8",
            "showbackground": true,
            "ticks": "",
            "zerolinecolor": "#EBF0F8"
           },
           "yaxis": {
            "backgroundcolor": "white",
            "gridcolor": "#DFE8F3",
            "gridwidth": 2,
            "linecolor": "#EBF0F8",
            "showbackground": true,
            "ticks": "",
            "zerolinecolor": "#EBF0F8"
           },
           "zaxis": {
            "backgroundcolor": "white",
            "gridcolor": "#DFE8F3",
            "gridwidth": 2,
            "linecolor": "#EBF0F8",
            "showbackground": true,
            "ticks": "",
            "zerolinecolor": "#EBF0F8"
           }
          },
          "shapedefaults": {
           "line": {
            "color": "#2a3f5f"
           }
          },
          "ternary": {
           "aaxis": {
            "gridcolor": "#DFE8F3",
            "linecolor": "#A2B1C6",
            "ticks": ""
           },
           "baxis": {
            "gridcolor": "#DFE8F3",
            "linecolor": "#A2B1C6",
            "ticks": ""
           },
           "bgcolor": "white",
           "caxis": {
            "gridcolor": "#DFE8F3",
            "linecolor": "#A2B1C6",
            "ticks": ""
           }
          },
          "title": {
           "x": 0.05
          },
          "xaxis": {
           "automargin": true,
           "gridcolor": "#f0f1f2",
           "gridwidth": 0.5,
           "linecolor": "#EBF0F8",
           "ticks": "",
           "title": {
            "standoff": 15
           },
           "zerolinecolor": "#f0f1f2",
           "zerolinewidth": 2
          },
          "yaxis": {
           "automargin": true,
           "gridcolor": "#f0f1f2",
           "gridwidth": 0.5,
           "linecolor": "#EBF0F8",
           "ticks": "",
           "title": {
            "standoff": 15
           },
           "zerolinecolor": "#f0f1f2",
           "zerolinewidth": 2
          }
         }
        },
        "title": {
         "text": "Mean return vs Standard deviation"
        },
        "xaxis": {
         "anchor": "y",
         "domain": [
          0,
          1
         ],
         "title": {
          "text": "Standard deviation"
         }
        },
        "yaxis": {
         "anchor": "x",
         "domain": [
          0,
          1
         ],
         "title": {
          "text": "Mean return"
         }
        }
       }
      }
     },
     "metadata": {},
     "output_type": "display_data"
    }
   ],
   "source": [
    "# Plot the mean return and standard deviation with plotly\n",
    "fig = px.scatter(tickers_df, x='Risk', y='Return', text=tickers_df.index)\n",
    "fig.update_traces(textposition='top center')\n",
    "fig.update_layout(title='Mean return vs Standard deviation', xaxis_title='Standard deviation', yaxis_title='Mean return')\n",
    "fig.show()\n"
   ]
  },
  {
   "cell_type": "code",
   "execution_count": 13,
   "metadata": {},
   "outputs": [],
   "source": [
    "numPortfolios = 10000\n",
    "nAssets = len(tickers)\n",
    "\n",
    "portfolios = generate_portfolios(returns, numPortfolios,)"
   ]
  },
  {
   "cell_type": "code",
   "execution_count": 14,
   "metadata": {},
   "outputs": [],
   "source": [
    "# Select sample portfolio\n",
    "sample_portfolio = portfolios.loc[256]\n",
    "# Determine the performance of the portfolio with out-of-sample data\n",
    "initialValue = 100\n",
    "nShares = sample_portfolio[[ticker+' weight' for ticker in tickers]].rename({ticker+' weight' : ticker for ticker in tickers})*initialValue/outOfSample_data.iloc[0]\n",
    "samplePortfolio_value = nShares.dot(outOfSample_data.T)"
   ]
  },
  {
   "cell_type": "code",
   "execution_count": null,
   "metadata": {},
   "outputs": [
    {
     "name": "stdout",
     "output_type": "stream",
     "text": [
      "[*********************100%***********************]  1 of 1 completed\n",
      "[*********************100%***********************]  2 of 2 completed\n"
     ]
    }
   ],
   "source": [
    "from dash import html, dcc, Input, Output, Dash\n",
    "import dash_bootstrap_components as dbc\n",
    "from dash_bootstrap_templates import load_figure_template\n",
    "import plotly.express as px\n",
    "import plotly.graph_objects as go\n",
    "from dash.exceptions import PreventUpdate\n",
    "import json\n",
    "\n",
    "dbc_css = \"https://cdn.jsdelivr.net/gh/AnnMarieW/dash-bootstrap-templates/dbc.min.css\""
   ]
  },
  {
   "cell_type": "code",
   "execution_count": null,
   "metadata": {},
   "outputs": [],
   "source": [
    "app = Dash(__name__,  external_stylesheets=[dbc.themes.CERULEAN, dbc_css])\n",
    "\n",
    "load_figure_template(\"CERULEAN\")\n",
    "\n",
    "app.layout = dbc.Container([\n",
    "    dbc.Row([\n",
    "        dbc.Col([\n",
    "            dcc.Graph(id='portfolios', \n",
    "                      figure=px.scatter(portfolios, x='Risk', y='Return', color='Sharpe Ratio', hover_data={**{ticker +' weight': ':.2f' for ticker in tickers}, **{'Return': ':.2f', 'Risk': ':.2f', 'Sharpe Ratio': ':.2f'}}, opacity=0.5, )\n",
    "                      .add_scatter(x=tickers_df['Risk'], y=tickers_df['Return'], mode='markers', marker=dict(size=7.5, color='black',),showlegend=False, name='Tickers', text = [f'Asset: {index}<br>Standard deviation: {vol:.2f}<br>Expected return: {ret:.2f}' for index, vol, ret in zip(tickers_df.index, tickers_df['Risk'], tickers_df['Return'])],\n",
    "                    hoverinfo='text'),\n",
    "                    clear_on_unhover=True\n",
    "                      )\n",
    "        ], width=6),\n",
    "        dbc.Col([\n",
    "            dcc.Graph(id='portfolio-value', figure=px.line(samplePortfolio_value, title='Portfolio value over time'),)\n",
    "        ], width=6),\n",
    "    ]),\n",
    "])\n",
    "\n",
    "\n",
    "\n",
    "@app.callback(\n",
    "    Output('portfolio-value', 'figure'),\n",
    "    [Input('portfolios', 'clickData'),\n",
    "     Input('portfolios', 'hoverData')]\n",
    ")\n",
    "def update_portfolio_value(clickData, hoverData):\n",
    "    if clickData is None:\n",
    "        # Return an empty figure if no portfolio is selected\n",
    "        fig = px.line()\n",
    "    else:\n",
    "        portfolio = portfolios.loc[clickData['points'][0]['pointIndex']]\n",
    "        nShares = portfolio[[ticker+' weight' for ticker in tickers]].rename({ticker+' weight' : ticker for ticker in tickers})*initialValue/outOfSample_data.iloc[0]\n",
    "        portfolio_value = nShares.dot(outOfSample_data.T)\n",
    "        fig = px.line(portfolio_value).update_layout(showlegend=False, transition_duration=50)\n",
    "        # y bounds are set to the minimum and maximum value of the portfolio values over all possible portfolios\n",
    "        ylims = [((initialValue/outOfSample_data.iloc[0])*outOfSample_data.min()).min(), ((initialValue/outOfSample_data.iloc[0])*outOfSample_data.max()).max()]\n",
    "        fig.update_yaxes(range=ylims)\n",
    "\n",
    "        if hoverData is not None:    \n",
    "            if hoverData['points'][0]['curveNumber'] == 0:\n",
    "                portfolio = portfolios.loc[hoverData['points'][0]['pointIndex']]\n",
    "                nShares = portfolio[[ticker+' weight' for ticker in tickers]].rename({ticker+' weight' : ticker for ticker in tickers})*initialValue/outOfSample_data.iloc[0]\n",
    "                portfolio_value = nShares.dot(outOfSample_data.T)\n",
    "            else:\n",
    "                ticker = tickers_df.iloc[hoverData['points'][0]['pointIndex']].name\n",
    "                nShares = initialValue/outOfSample_data.iloc[0][ticker]\n",
    "                portfolio_value = nShares*outOfSample_data[ticker]\n",
    "            fig.add_trace(go.Scatter(x=portfolio_value.index, y=portfolio_value, mode='lines',opacity=0.2),)\n",
    "            fig.update_layout(transition_duration=50, showlegend=False)\n",
    "    return fig\n",
    "\n",
    "\n",
    "if __name__ == '__main__':\n",
    "    app.run_server(debug=True, height=1000, port=8050)"
   ]
  },
  {
   "cell_type": "markdown",
   "metadata": {},
   "source": [
    "Compare in-sample and out-of-sample returns"
   ]
  },
  {
   "cell_type": "code",
   "execution_count": null,
   "metadata": {},
   "outputs": [],
   "source": []
  },
  {
   "cell_type": "code",
   "execution_count": null,
   "metadata": {},
   "outputs": [],
   "source": []
  }
 ],
 "metadata": {
  "kernelspec": {
   "display_name": "myenv",
   "language": "python",
   "name": "python3"
  },
  "language_info": {
   "codemirror_mode": {
    "name": "ipython",
    "version": 3
   },
   "file_extension": ".py",
   "mimetype": "text/x-python",
   "name": "python",
   "nbconvert_exporter": "python",
   "pygments_lexer": "ipython3",
   "version": "3.11.4"
  }
 },
 "nbformat": 4,
 "nbformat_minor": 2
}
