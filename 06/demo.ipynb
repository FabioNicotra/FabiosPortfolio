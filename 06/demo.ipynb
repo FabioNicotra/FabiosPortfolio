{
 "cells": [
  {
   "cell_type": "code",
   "execution_count": 1,
   "metadata": {},
   "outputs": [],
   "source": [
    "import numpy as np\n",
    "import pandas as pd\n",
    "from openbb import obb"
   ]
  },
  {
   "cell_type": "code",
   "execution_count": 2,
   "metadata": {},
   "outputs": [
    {
     "name": "stderr",
     "output_type": "stream",
     "text": [
      "/Users/fabio/anaconda3/envs/myenv/lib/python3.11/site-packages/openbb_federal_reserve/models/treasury_rates.py:106: SettingWithCopyWarning: \n",
      "A value is trying to be set on a copy of a slice from a DataFrame.\n",
      "Try using .loc[row_indexer,col_indexer] = value instead\n",
      "\n",
      "See the caveats in the documentation: https://pandas.pydata.org/pandas-docs/stable/user_guide/indexing.html#returning-a-view-versus-a-copy\n",
      "  df[col] = df[col].astype(float) / 100\n",
      "/Users/fabio/anaconda3/envs/myenv/lib/python3.11/site-packages/openbb_federal_reserve/models/treasury_rates.py:106: SettingWithCopyWarning: \n",
      "A value is trying to be set on a copy of a slice from a DataFrame.\n",
      "Try using .loc[row_indexer,col_indexer] = value instead\n",
      "\n",
      "See the caveats in the documentation: https://pandas.pydata.org/pandas-docs/stable/user_guide/indexing.html#returning-a-view-versus-a-copy\n",
      "  df[col] = df[col].astype(float) / 100\n",
      "/Users/fabio/anaconda3/envs/myenv/lib/python3.11/site-packages/openbb_federal_reserve/models/treasury_rates.py:106: SettingWithCopyWarning: \n",
      "A value is trying to be set on a copy of a slice from a DataFrame.\n",
      "Try using .loc[row_indexer,col_indexer] = value instead\n",
      "\n",
      "See the caveats in the documentation: https://pandas.pydata.org/pandas-docs/stable/user_guide/indexing.html#returning-a-view-versus-a-copy\n",
      "  df[col] = df[col].astype(float) / 100\n",
      "/Users/fabio/anaconda3/envs/myenv/lib/python3.11/site-packages/openbb_federal_reserve/models/treasury_rates.py:106: SettingWithCopyWarning: \n",
      "A value is trying to be set on a copy of a slice from a DataFrame.\n",
      "Try using .loc[row_indexer,col_indexer] = value instead\n",
      "\n",
      "See the caveats in the documentation: https://pandas.pydata.org/pandas-docs/stable/user_guide/indexing.html#returning-a-view-versus-a-copy\n",
      "  df[col] = df[col].astype(float) / 100\n",
      "/Users/fabio/anaconda3/envs/myenv/lib/python3.11/site-packages/openbb_federal_reserve/models/treasury_rates.py:106: SettingWithCopyWarning: \n",
      "A value is trying to be set on a copy of a slice from a DataFrame.\n",
      "Try using .loc[row_indexer,col_indexer] = value instead\n",
      "\n",
      "See the caveats in the documentation: https://pandas.pydata.org/pandas-docs/stable/user_guide/indexing.html#returning-a-view-versus-a-copy\n",
      "  df[col] = df[col].astype(float) / 100\n",
      "/Users/fabio/anaconda3/envs/myenv/lib/python3.11/site-packages/openbb_federal_reserve/models/treasury_rates.py:106: SettingWithCopyWarning: \n",
      "A value is trying to be set on a copy of a slice from a DataFrame.\n",
      "Try using .loc[row_indexer,col_indexer] = value instead\n",
      "\n",
      "See the caveats in the documentation: https://pandas.pydata.org/pandas-docs/stable/user_guide/indexing.html#returning-a-view-versus-a-copy\n",
      "  df[col] = df[col].astype(float) / 100\n",
      "/Users/fabio/anaconda3/envs/myenv/lib/python3.11/site-packages/openbb_federal_reserve/models/treasury_rates.py:106: SettingWithCopyWarning: \n",
      "A value is trying to be set on a copy of a slice from a DataFrame.\n",
      "Try using .loc[row_indexer,col_indexer] = value instead\n",
      "\n",
      "See the caveats in the documentation: https://pandas.pydata.org/pandas-docs/stable/user_guide/indexing.html#returning-a-view-versus-a-copy\n",
      "  df[col] = df[col].astype(float) / 100\n",
      "/Users/fabio/anaconda3/envs/myenv/lib/python3.11/site-packages/openbb_federal_reserve/models/treasury_rates.py:106: SettingWithCopyWarning: \n",
      "A value is trying to be set on a copy of a slice from a DataFrame.\n",
      "Try using .loc[row_indexer,col_indexer] = value instead\n",
      "\n",
      "See the caveats in the documentation: https://pandas.pydata.org/pandas-docs/stable/user_guide/indexing.html#returning-a-view-versus-a-copy\n",
      "  df[col] = df[col].astype(float) / 100\n",
      "/Users/fabio/anaconda3/envs/myenv/lib/python3.11/site-packages/openbb_federal_reserve/models/treasury_rates.py:106: SettingWithCopyWarning: \n",
      "A value is trying to be set on a copy of a slice from a DataFrame.\n",
      "Try using .loc[row_indexer,col_indexer] = value instead\n",
      "\n",
      "See the caveats in the documentation: https://pandas.pydata.org/pandas-docs/stable/user_guide/indexing.html#returning-a-view-versus-a-copy\n",
      "  df[col] = df[col].astype(float) / 100\n",
      "/Users/fabio/anaconda3/envs/myenv/lib/python3.11/site-packages/openbb_federal_reserve/models/treasury_rates.py:106: SettingWithCopyWarning: \n",
      "A value is trying to be set on a copy of a slice from a DataFrame.\n",
      "Try using .loc[row_indexer,col_indexer] = value instead\n",
      "\n",
      "See the caveats in the documentation: https://pandas.pydata.org/pandas-docs/stable/user_guide/indexing.html#returning-a-view-versus-a-copy\n",
      "  df[col] = df[col].astype(float) / 100\n",
      "/Users/fabio/anaconda3/envs/myenv/lib/python3.11/site-packages/openbb_federal_reserve/models/treasury_rates.py:106: SettingWithCopyWarning: \n",
      "A value is trying to be set on a copy of a slice from a DataFrame.\n",
      "Try using .loc[row_indexer,col_indexer] = value instead\n",
      "\n",
      "See the caveats in the documentation: https://pandas.pydata.org/pandas-docs/stable/user_guide/indexing.html#returning-a-view-versus-a-copy\n",
      "  df[col] = df[col].astype(float) / 100\n"
     ]
    }
   ],
   "source": [
    "rates = (\n",
    "    obb\n",
    "    .fixedincome\n",
    "    .government\n",
    "    .treasury_rates(\n",
    "        start_date=\"2020-01-01\"\n",
    "    )\n",
    "    .to_df()\n",
    "    .dropna()\n",
    "    .div(100)\n",
    ")\n",
    "\n",
    "C = rates.cov()"
   ]
  },
  {
   "cell_type": "code",
   "execution_count": 3,
   "metadata": {},
   "outputs": [],
   "source": [
    "eigenvalues, eigenvectors = np.linalg.eig(C)\n",
    "lambda_sqrt = np.sqrt(eigenvalues)\n",
    "eigv_decom = np.diag(lambda_sqrt)"
   ]
  },
  {
   "cell_type": "code",
   "execution_count": 4,
   "metadata": {},
   "outputs": [],
   "source": [
    "B = eigv_decom @ eigenvectors.T\n",
    "B = pd.DataFrame(\n",
    "    data=B[:4] * 100,\n",
    "    index=[\"wiggle\", \"flex\", \"twist\", \"shift\"],\n",
    "    columns=rates.columns\n",
    ")"
   ]
  },
  {
   "cell_type": "code",
   "execution_count": 5,
   "metadata": {},
   "outputs": [
    {
     "data": {
      "text/plain": [
       "month_1   -0.033586\n",
       "month_3   -0.034979\n",
       "month_6   -0.034155\n",
       "year_1    -0.031301\n",
       "year_2    -0.025796\n",
       "year_3    -0.022952\n",
       "year_5    -0.020289\n",
       "year_7    -0.019148\n",
       "year_10   -0.018242\n",
       "year_20   -0.017703\n",
       "year_30   -0.016166\n",
       "dtype: float64"
      ]
     },
     "execution_count": 5,
     "metadata": {},
     "output_type": "execute_result"
    }
   ],
   "source": [
    "random_shocks = np.random.normal(0, 1, size=(4,))\n",
    "random_shocks @ B"
   ]
  }
 ],
 "metadata": {
  "kernelspec": {
   "display_name": "myenv",
   "language": "python",
   "name": "python3"
  },
  "language_info": {
   "codemirror_mode": {
    "name": "ipython",
    "version": 3
   },
   "file_extension": ".py",
   "mimetype": "text/x-python",
   "name": "python",
   "nbconvert_exporter": "python",
   "pygments_lexer": "ipython3",
   "version": "3.11.4"
  }
 },
 "nbformat": 4,
 "nbformat_minor": 2
}
